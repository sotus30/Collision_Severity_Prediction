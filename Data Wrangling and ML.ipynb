{
    "cells": [
        {
            "cell_type": "markdown",
            "metadata": {},
            "source": "<h1>IBM Professional Certificate Capstone Project"
        },
        {
            "cell_type": "markdown",
            "metadata": {},
            "source": "<h3>This notebook will be used for the Coursera Capstone Project\n<h4>We will use data regarding car accidents in Canada to create a model that can predict the severity of an accident"
        },
        {
            "cell_type": "code",
            "execution_count": 1,
            "metadata": {},
            "outputs": [
                {
                    "name": "stdout",
                    "output_type": "stream",
                    "text": "Hello Capstone Project Course!\n"
                }
            ],
            "source": "print('Hello Capstone Project Course!')"
        },
        {
            "cell_type": "markdown",
            "metadata": {},
            "source": "<h4>Importing the CSV"
        },
        {
            "cell_type": "code",
            "execution_count": 51,
            "metadata": {},
            "outputs": [],
            "source": "import itertools\nimport numpy as np\nimport matplotlib.pyplot as plt\nfrom matplotlib.ticker import NullFormatter\nimport pandas as pd\nimport numpy as np\nimport matplotlib.ticker as ticker\nfrom sklearn import preprocessing\n%matplotlib inline"
        },
        {
            "cell_type": "code",
            "execution_count": 3,
            "metadata": {
                "scrolled": true
            },
            "outputs": [
                {
                    "name": "stderr",
                    "output_type": "stream",
                    "text": "C:\\Users\\Rotortex-Produccion\\anaconda3\\lib\\site-packages\\IPython\\core\\interactiveshell.py:3071: DtypeWarning: Columns (33) have mixed types.Specify dtype option on import or set low_memory=False.\n  has_raised = await self.run_ast_nodes(code_ast.body, cell_name,\n"
                },
                {
                    "data": {
                        "text/html": "<div>\n<style scoped>\n    .dataframe tbody tr th:only-of-type {\n        vertical-align: middle;\n    }\n\n    .dataframe tbody tr th {\n        vertical-align: top;\n    }\n\n    .dataframe thead th {\n        text-align: right;\n    }\n</style>\n<table border=\"1\" class=\"dataframe\">\n  <thead>\n    <tr style=\"text-align: right;\">\n      <th></th>\n      <th>SEVERITYCODE</th>\n      <th>X</th>\n      <th>Y</th>\n      <th>OBJECTID</th>\n      <th>INCKEY</th>\n      <th>COLDETKEY</th>\n      <th>REPORTNO</th>\n      <th>STATUS</th>\n      <th>ADDRTYPE</th>\n      <th>INTKEY</th>\n      <th>...</th>\n      <th>ROADCOND</th>\n      <th>LIGHTCOND</th>\n      <th>PEDROWNOTGRNT</th>\n      <th>SDOTCOLNUM</th>\n      <th>SPEEDING</th>\n      <th>ST_COLCODE</th>\n      <th>ST_COLDESC</th>\n      <th>SEGLANEKEY</th>\n      <th>CROSSWALKKEY</th>\n      <th>HITPARKEDCAR</th>\n    </tr>\n  </thead>\n  <tbody>\n    <tr>\n      <th>0</th>\n      <td>2</td>\n      <td>-122.323148</td>\n      <td>47.703140</td>\n      <td>1</td>\n      <td>1307</td>\n      <td>1307</td>\n      <td>3502005</td>\n      <td>Matched</td>\n      <td>Intersection</td>\n      <td>37475.0</td>\n      <td>...</td>\n      <td>Wet</td>\n      <td>Daylight</td>\n      <td>NaN</td>\n      <td>NaN</td>\n      <td>NaN</td>\n      <td>10</td>\n      <td>Entering at angle</td>\n      <td>0</td>\n      <td>0</td>\n      <td>N</td>\n    </tr>\n    <tr>\n      <th>1</th>\n      <td>1</td>\n      <td>-122.347294</td>\n      <td>47.647172</td>\n      <td>2</td>\n      <td>52200</td>\n      <td>52200</td>\n      <td>2607959</td>\n      <td>Matched</td>\n      <td>Block</td>\n      <td>NaN</td>\n      <td>...</td>\n      <td>Wet</td>\n      <td>Dark - Street Lights On</td>\n      <td>NaN</td>\n      <td>6354039.0</td>\n      <td>NaN</td>\n      <td>11</td>\n      <td>From same direction - both going straight - bo...</td>\n      <td>0</td>\n      <td>0</td>\n      <td>N</td>\n    </tr>\n    <tr>\n      <th>2</th>\n      <td>1</td>\n      <td>-122.334540</td>\n      <td>47.607871</td>\n      <td>3</td>\n      <td>26700</td>\n      <td>26700</td>\n      <td>1482393</td>\n      <td>Matched</td>\n      <td>Block</td>\n      <td>NaN</td>\n      <td>...</td>\n      <td>Dry</td>\n      <td>Daylight</td>\n      <td>NaN</td>\n      <td>4323031.0</td>\n      <td>NaN</td>\n      <td>32</td>\n      <td>One parked--one moving</td>\n      <td>0</td>\n      <td>0</td>\n      <td>N</td>\n    </tr>\n    <tr>\n      <th>3</th>\n      <td>1</td>\n      <td>-122.334803</td>\n      <td>47.604803</td>\n      <td>4</td>\n      <td>1144</td>\n      <td>1144</td>\n      <td>3503937</td>\n      <td>Matched</td>\n      <td>Block</td>\n      <td>NaN</td>\n      <td>...</td>\n      <td>Dry</td>\n      <td>Daylight</td>\n      <td>NaN</td>\n      <td>NaN</td>\n      <td>NaN</td>\n      <td>23</td>\n      <td>From same direction - all others</td>\n      <td>0</td>\n      <td>0</td>\n      <td>N</td>\n    </tr>\n    <tr>\n      <th>4</th>\n      <td>2</td>\n      <td>-122.306426</td>\n      <td>47.545739</td>\n      <td>5</td>\n      <td>17700</td>\n      <td>17700</td>\n      <td>1807429</td>\n      <td>Matched</td>\n      <td>Intersection</td>\n      <td>34387.0</td>\n      <td>...</td>\n      <td>Wet</td>\n      <td>Daylight</td>\n      <td>NaN</td>\n      <td>4028032.0</td>\n      <td>NaN</td>\n      <td>10</td>\n      <td>Entering at angle</td>\n      <td>0</td>\n      <td>0</td>\n      <td>N</td>\n    </tr>\n  </tbody>\n</table>\n<p>5 rows \u00d7 38 columns</p>\n</div>",
                        "text/plain": "   SEVERITYCODE           X          Y  OBJECTID  INCKEY  COLDETKEY REPORTNO  \\\n0             2 -122.323148  47.703140         1    1307       1307  3502005   \n1             1 -122.347294  47.647172         2   52200      52200  2607959   \n2             1 -122.334540  47.607871         3   26700      26700  1482393   \n3             1 -122.334803  47.604803         4    1144       1144  3503937   \n4             2 -122.306426  47.545739         5   17700      17700  1807429   \n\n    STATUS      ADDRTYPE   INTKEY  ... ROADCOND                LIGHTCOND  \\\n0  Matched  Intersection  37475.0  ...      Wet                 Daylight   \n1  Matched         Block      NaN  ...      Wet  Dark - Street Lights On   \n2  Matched         Block      NaN  ...      Dry                 Daylight   \n3  Matched         Block      NaN  ...      Dry                 Daylight   \n4  Matched  Intersection  34387.0  ...      Wet                 Daylight   \n\n  PEDROWNOTGRNT  SDOTCOLNUM SPEEDING ST_COLCODE  \\\n0           NaN         NaN      NaN         10   \n1           NaN   6354039.0      NaN         11   \n2           NaN   4323031.0      NaN         32   \n3           NaN         NaN      NaN         23   \n4           NaN   4028032.0      NaN         10   \n\n                                          ST_COLDESC  SEGLANEKEY  \\\n0                                  Entering at angle           0   \n1  From same direction - both going straight - bo...           0   \n2                             One parked--one moving           0   \n3                   From same direction - all others           0   \n4                                  Entering at angle           0   \n\n   CROSSWALKKEY  HITPARKEDCAR  \n0             0             N  \n1             0             N  \n2             0             N  \n3             0             N  \n4             0             N  \n\n[5 rows x 38 columns]"
                    },
                    "execution_count": 3,
                    "metadata": {},
                    "output_type": "execute_result"
                }
            ],
            "source": "COL0 = pd.read_csv('Collisions.csv')\nCOL0.head()\n"
        },
        {
            "cell_type": "markdown",
            "metadata": {},
            "source": "<h4>Want to know the size of the table"
        },
        {
            "cell_type": "code",
            "execution_count": 4,
            "metadata": {},
            "outputs": [
                {
                    "data": {
                        "text/plain": "(194673, 38)"
                    },
                    "execution_count": 4,
                    "metadata": {},
                    "output_type": "execute_result"
                }
            ],
            "source": "COL0.shape"
        },
        {
            "cell_type": "code",
            "execution_count": 5,
            "metadata": {},
            "outputs": [],
            "source": "Roadcond = pd.DataFrame(COL0['ROADCOND'])"
        },
        {
            "cell_type": "markdown",
            "metadata": {},
            "source": "<h4>Counting the number of empty cells in column roadcond"
        },
        {
            "cell_type": "code",
            "execution_count": 6,
            "metadata": {},
            "outputs": [
                {
                    "data": {
                        "text/plain": "ROADCOND    5012\ndtype: int64"
                    },
                    "execution_count": 6,
                    "metadata": {},
                    "output_type": "execute_result"
                }
            ],
            "source": "Roadcond.isnull().sum()"
        },
        {
            "cell_type": "markdown",
            "metadata": {},
            "source": "<h4>Pulling ROADCOND AND SEVERITYCODE columns to a new DF to analyze."
        },
        {
            "cell_type": "code",
            "execution_count": 7,
            "metadata": {
                "scrolled": true
            },
            "outputs": [
                {
                    "data": {
                        "text/html": "<div>\n<style scoped>\n    .dataframe tbody tr th:only-of-type {\n        vertical-align: middle;\n    }\n\n    .dataframe tbody tr th {\n        vertical-align: top;\n    }\n\n    .dataframe thead th {\n        text-align: right;\n    }\n</style>\n<table border=\"1\" class=\"dataframe\">\n  <thead>\n    <tr style=\"text-align: right;\">\n      <th></th>\n      <th>ROADCOND</th>\n    </tr>\n    <tr>\n      <th>SEVERITYCODE</th>\n      <th></th>\n    </tr>\n  </thead>\n  <tbody>\n    <tr>\n      <th>2</th>\n      <td>Dry</td>\n    </tr>\n    <tr>\n      <th>1</th>\n      <td>Wet</td>\n    </tr>\n    <tr>\n      <th>1</th>\n      <td>Wet</td>\n    </tr>\n    <tr>\n      <th>1</th>\n      <td>Wet</td>\n    </tr>\n    <tr>\n      <th>2</th>\n      <td>Dry</td>\n    </tr>\n  </tbody>\n</table>\n</div>",
                        "text/plain": "             ROADCOND\nSEVERITYCODE         \n2                 Dry\n1                 Wet\n1                 Wet\n1                 Wet\n2                 Dry"
                    },
                    "execution_count": 7,
                    "metadata": {},
                    "output_type": "execute_result"
                }
            ],
            "source": "Roadcond2 = pd.DataFrame(COL0['ROADCOND'],COL0['SEVERITYCODE'])\nRoadcond2.head()"
        },
        {
            "cell_type": "markdown",
            "metadata": {},
            "source": "<h4>Counting Road Conditions on ROADCOND column"
        },
        {
            "cell_type": "code",
            "execution_count": 8,
            "metadata": {
                "scrolled": false
            },
            "outputs": [
                {
                    "data": {
                        "text/plain": "Dry               124510\nWet                47474\nUnknown            15078\nIce                 1209\nSnow/Slush          1004\nOther                132\nStanding Water       115\nSand/Mud/Dirt         75\nOil                   64\nName: ROADCOND, dtype: int64"
                    },
                    "execution_count": 8,
                    "metadata": {},
                    "output_type": "execute_result"
                }
            ],
            "source": "COL0['ROADCOND'].value_counts()"
        },
        {
            "cell_type": "markdown",
            "metadata": {},
            "source": "<h4>Retreiving correlations of the data frame and asking to only see SEVERITYCODE column"
        },
        {
            "cell_type": "code",
            "execution_count": 9,
            "metadata": {
                "scrolled": true
            },
            "outputs": [
                {
                    "data": {
                        "text/plain": "SEVERITYCODE      1.000000\nX                 0.010309\nY                 0.017737\nOBJECTID          0.020131\nINCKEY            0.022065\nCOLDETKEY         0.022079\nINTKEY            0.006553\nSEVERITYCODE.1    1.000000\nPERSONCOUNT       0.130949\nPEDCOUNT          0.246338\nPEDCYLCOUNT       0.214218\nVEHCOUNT         -0.054686\nSDOT_COLCODE      0.188905\nSDOTCOLNUM        0.004226\nSEGLANEKEY        0.104276\nCROSSWALKKEY      0.175093\nName: SEVERITYCODE, dtype: float64"
                    },
                    "execution_count": 9,
                    "metadata": {},
                    "output_type": "execute_result"
                }
            ],
            "source": "COL0.corr()['SEVERITYCODE']"
        },
        {
            "cell_type": "markdown",
            "metadata": {},
            "source": "<h4>Find out which columns are STRINGS and cant be counted for correlation"
        },
        {
            "cell_type": "code",
            "execution_count": 10,
            "metadata": {
                "scrolled": true
            },
            "outputs": [
                {
                    "data": {
                        "text/plain": "Index(['REPORTNO', 'STATUS', 'ADDRTYPE', 'LOCATION', 'EXCEPTRSNCODE',\n       'EXCEPTRSNDESC', 'SEVERITYDESC', 'COLLISIONTYPE', 'INCDATE', 'INCDTTM',\n       'JUNCTIONTYPE', 'SDOT_COLDESC', 'INATTENTIONIND', 'UNDERINFL',\n       'WEATHER', 'ROADCOND', 'LIGHTCOND', 'PEDROWNOTGRNT', 'SPEEDING',\n       'ST_COLCODE', 'ST_COLDESC', 'HITPARKEDCAR'],\n      dtype='object')"
                    },
                    "execution_count": 10,
                    "metadata": {},
                    "output_type": "execute_result"
                }
            ],
            "source": "COL0.select_dtypes(['object']).columns"
        },
        {
            "cell_type": "markdown",
            "metadata": {},
            "source": "<h4>Looking for NULL or MISSING data on each column"
        },
        {
            "cell_type": "code",
            "execution_count": 11,
            "metadata": {
                "scrolled": true
            },
            "outputs": [
                {
                    "data": {
                        "text/plain": "SEVERITYCODE           0\nX                   5334\nY                   5334\nOBJECTID               0\nINCKEY                 0\nCOLDETKEY              0\nREPORTNO               0\nSTATUS                 0\nADDRTYPE            1926\nINTKEY            129603\nLOCATION            2677\nEXCEPTRSNCODE     109862\nEXCEPTRSNDESC     189035\nSEVERITYCODE.1         0\nSEVERITYDESC           0\nCOLLISIONTYPE       4904\nPERSONCOUNT            0\nPEDCOUNT               0\nPEDCYLCOUNT            0\nVEHCOUNT               0\nINCDATE                0\nINCDTTM                0\nJUNCTIONTYPE        6329\nSDOT_COLCODE           0\nSDOT_COLDESC           0\nINATTENTIONIND    164868\nUNDERINFL           4884\nWEATHER             5081\nROADCOND            5012\nLIGHTCOND           5170\nPEDROWNOTGRNT     190006\nSDOTCOLNUM         79737\nSPEEDING          185340\nST_COLCODE            18\nST_COLDESC          4904\nSEGLANEKEY             0\nCROSSWALKKEY           0\nHITPARKEDCAR           0\ndtype: int64"
                    },
                    "execution_count": 11,
                    "metadata": {},
                    "output_type": "execute_result"
                }
            ],
            "source": "COL0.isnull().sum()"
        },
        {
            "cell_type": "markdown",
            "metadata": {},
            "source": "<h4>Removing columns that have too much missing information and those that have a very small correlation with SEVERITYCODE. New DF called COL1."
        },
        {
            "cell_type": "code",
            "execution_count": 12,
            "metadata": {
                "scrolled": false
            },
            "outputs": [
                {
                    "data": {
                        "text/html": "<div>\n<style scoped>\n    .dataframe tbody tr th:only-of-type {\n        vertical-align: middle;\n    }\n\n    .dataframe tbody tr th {\n        vertical-align: top;\n    }\n\n    .dataframe thead th {\n        text-align: right;\n    }\n</style>\n<table border=\"1\" class=\"dataframe\">\n  <thead>\n    <tr style=\"text-align: right;\">\n      <th></th>\n      <th>SEVERITYCODE</th>\n      <th>X</th>\n      <th>Y</th>\n      <th>COLLISIONTYPE</th>\n      <th>PERSONCOUNT</th>\n      <th>PEDCOUNT</th>\n      <th>PEDCYLCOUNT</th>\n      <th>JUNCTIONTYPE</th>\n      <th>UNDERINFL</th>\n      <th>WEATHER</th>\n      <th>ROADCOND</th>\n      <th>LIGHTCOND</th>\n      <th>SEGLANEKEY</th>\n      <th>CROSSWALKKEY</th>\n      <th>HITPARKEDCAR</th>\n    </tr>\n  </thead>\n  <tbody>\n    <tr>\n      <th>0</th>\n      <td>2</td>\n      <td>-122.323148</td>\n      <td>47.703140</td>\n      <td>Angles</td>\n      <td>2</td>\n      <td>0</td>\n      <td>0</td>\n      <td>At Intersection (intersection related)</td>\n      <td>N</td>\n      <td>Overcast</td>\n      <td>Wet</td>\n      <td>Daylight</td>\n      <td>0</td>\n      <td>0</td>\n      <td>N</td>\n    </tr>\n    <tr>\n      <th>1</th>\n      <td>1</td>\n      <td>-122.347294</td>\n      <td>47.647172</td>\n      <td>Sideswipe</td>\n      <td>2</td>\n      <td>0</td>\n      <td>0</td>\n      <td>Mid-Block (not related to intersection)</td>\n      <td>0</td>\n      <td>Raining</td>\n      <td>Wet</td>\n      <td>Dark - Street Lights On</td>\n      <td>0</td>\n      <td>0</td>\n      <td>N</td>\n    </tr>\n    <tr>\n      <th>2</th>\n      <td>1</td>\n      <td>-122.334540</td>\n      <td>47.607871</td>\n      <td>Parked Car</td>\n      <td>4</td>\n      <td>0</td>\n      <td>0</td>\n      <td>Mid-Block (not related to intersection)</td>\n      <td>0</td>\n      <td>Overcast</td>\n      <td>Dry</td>\n      <td>Daylight</td>\n      <td>0</td>\n      <td>0</td>\n      <td>N</td>\n    </tr>\n    <tr>\n      <th>3</th>\n      <td>1</td>\n      <td>-122.334803</td>\n      <td>47.604803</td>\n      <td>Other</td>\n      <td>3</td>\n      <td>0</td>\n      <td>0</td>\n      <td>Mid-Block (not related to intersection)</td>\n      <td>N</td>\n      <td>Clear</td>\n      <td>Dry</td>\n      <td>Daylight</td>\n      <td>0</td>\n      <td>0</td>\n      <td>N</td>\n    </tr>\n    <tr>\n      <th>4</th>\n      <td>2</td>\n      <td>-122.306426</td>\n      <td>47.545739</td>\n      <td>Angles</td>\n      <td>2</td>\n      <td>0</td>\n      <td>0</td>\n      <td>At Intersection (intersection related)</td>\n      <td>0</td>\n      <td>Raining</td>\n      <td>Wet</td>\n      <td>Daylight</td>\n      <td>0</td>\n      <td>0</td>\n      <td>N</td>\n    </tr>\n  </tbody>\n</table>\n</div>",
                        "text/plain": "   SEVERITYCODE           X          Y COLLISIONTYPE  PERSONCOUNT  PEDCOUNT  \\\n0             2 -122.323148  47.703140        Angles            2         0   \n1             1 -122.347294  47.647172     Sideswipe            2         0   \n2             1 -122.334540  47.607871    Parked Car            4         0   \n3             1 -122.334803  47.604803         Other            3         0   \n4             2 -122.306426  47.545739        Angles            2         0   \n\n   PEDCYLCOUNT                             JUNCTIONTYPE UNDERINFL   WEATHER  \\\n0            0   At Intersection (intersection related)         N  Overcast   \n1            0  Mid-Block (not related to intersection)         0   Raining   \n2            0  Mid-Block (not related to intersection)         0  Overcast   \n3            0  Mid-Block (not related to intersection)         N     Clear   \n4            0   At Intersection (intersection related)         0   Raining   \n\n  ROADCOND                LIGHTCOND  SEGLANEKEY  CROSSWALKKEY HITPARKEDCAR  \n0      Wet                 Daylight           0             0            N  \n1      Wet  Dark - Street Lights On           0             0            N  \n2      Dry                 Daylight           0             0            N  \n3      Dry                 Daylight           0             0            N  \n4      Wet                 Daylight           0             0            N  "
                    },
                    "execution_count": 12,
                    "metadata": {},
                    "output_type": "execute_result"
                }
            ],
            "source": "COL1 = COL0.drop(columns={'ADDRTYPE','VEHCOUNT','ST_COLCODE','SEVERITYDESC','SDOT_COLCODE','INCDTTM','INCDATE','ST_COLDESC','SDOT_COLDESC','LOCATION','STATUS','REPORTNO','INTKEY','EXCEPTRSNCODE','EXCEPTRSNDESC','INATTENTIONIND','PEDROWNOTGRNT','SDOTCOLNUM','SPEEDING','SEVERITYCODE.1','OBJECTID','INCKEY','COLDETKEY'})\nCOL1.head(5)"
        },
        {
            "cell_type": "code",
            "execution_count": 13,
            "metadata": {},
            "outputs": [],
            "source": "pd.set_option('display.max_columns', None)"
        },
        {
            "cell_type": "markdown",
            "metadata": {},
            "source": "<h4> Changing column names"
        },
        {
            "cell_type": "code",
            "execution_count": 14,
            "metadata": {
                "scrolled": false
            },
            "outputs": [
                {
                    "data": {
                        "text/html": "<div>\n<style scoped>\n    .dataframe tbody tr th:only-of-type {\n        vertical-align: middle;\n    }\n\n    .dataframe tbody tr th {\n        vertical-align: top;\n    }\n\n    .dataframe thead th {\n        text-align: right;\n    }\n</style>\n<table border=\"1\" class=\"dataframe\">\n  <thead>\n    <tr style=\"text-align: right;\">\n      <th></th>\n      <th>SEVERITYCODE</th>\n      <th>Latitude</th>\n      <th>Longitude</th>\n      <th>COLLISIONTYPE</th>\n      <th>PERSONCOUNT</th>\n      <th>PEDCOUNT</th>\n      <th>PEDCYLCOUNT</th>\n      <th>JUNCTIONTYPE</th>\n      <th>UNDERINFL</th>\n      <th>WEATHER</th>\n      <th>ROADCOND</th>\n      <th>LIGHTCOND</th>\n      <th>SEGLANEKEY</th>\n      <th>CROSSWALKKEY</th>\n      <th>HITPARKEDCAR</th>\n    </tr>\n  </thead>\n  <tbody>\n    <tr>\n      <th>0</th>\n      <td>2</td>\n      <td>-122.323148</td>\n      <td>47.703140</td>\n      <td>Angles</td>\n      <td>2</td>\n      <td>0</td>\n      <td>0</td>\n      <td>At Intersection (intersection related)</td>\n      <td>N</td>\n      <td>Overcast</td>\n      <td>Wet</td>\n      <td>Daylight</td>\n      <td>0</td>\n      <td>0</td>\n      <td>N</td>\n    </tr>\n    <tr>\n      <th>1</th>\n      <td>1</td>\n      <td>-122.347294</td>\n      <td>47.647172</td>\n      <td>Sideswipe</td>\n      <td>2</td>\n      <td>0</td>\n      <td>0</td>\n      <td>Mid-Block (not related to intersection)</td>\n      <td>0</td>\n      <td>Raining</td>\n      <td>Wet</td>\n      <td>Dark - Street Lights On</td>\n      <td>0</td>\n      <td>0</td>\n      <td>N</td>\n    </tr>\n    <tr>\n      <th>2</th>\n      <td>1</td>\n      <td>-122.334540</td>\n      <td>47.607871</td>\n      <td>Parked Car</td>\n      <td>4</td>\n      <td>0</td>\n      <td>0</td>\n      <td>Mid-Block (not related to intersection)</td>\n      <td>0</td>\n      <td>Overcast</td>\n      <td>Dry</td>\n      <td>Daylight</td>\n      <td>0</td>\n      <td>0</td>\n      <td>N</td>\n    </tr>\n    <tr>\n      <th>3</th>\n      <td>1</td>\n      <td>-122.334803</td>\n      <td>47.604803</td>\n      <td>Other</td>\n      <td>3</td>\n      <td>0</td>\n      <td>0</td>\n      <td>Mid-Block (not related to intersection)</td>\n      <td>N</td>\n      <td>Clear</td>\n      <td>Dry</td>\n      <td>Daylight</td>\n      <td>0</td>\n      <td>0</td>\n      <td>N</td>\n    </tr>\n    <tr>\n      <th>4</th>\n      <td>2</td>\n      <td>-122.306426</td>\n      <td>47.545739</td>\n      <td>Angles</td>\n      <td>2</td>\n      <td>0</td>\n      <td>0</td>\n      <td>At Intersection (intersection related)</td>\n      <td>0</td>\n      <td>Raining</td>\n      <td>Wet</td>\n      <td>Daylight</td>\n      <td>0</td>\n      <td>0</td>\n      <td>N</td>\n    </tr>\n  </tbody>\n</table>\n</div>",
                        "text/plain": "   SEVERITYCODE    Latitude  Longitude COLLISIONTYPE  PERSONCOUNT  PEDCOUNT  \\\n0             2 -122.323148  47.703140        Angles            2         0   \n1             1 -122.347294  47.647172     Sideswipe            2         0   \n2             1 -122.334540  47.607871    Parked Car            4         0   \n3             1 -122.334803  47.604803         Other            3         0   \n4             2 -122.306426  47.545739        Angles            2         0   \n\n   PEDCYLCOUNT                             JUNCTIONTYPE UNDERINFL   WEATHER  \\\n0            0   At Intersection (intersection related)         N  Overcast   \n1            0  Mid-Block (not related to intersection)         0   Raining   \n2            0  Mid-Block (not related to intersection)         0  Overcast   \n3            0  Mid-Block (not related to intersection)         N     Clear   \n4            0   At Intersection (intersection related)         0   Raining   \n\n  ROADCOND                LIGHTCOND  SEGLANEKEY  CROSSWALKKEY HITPARKEDCAR  \n0      Wet                 Daylight           0             0            N  \n1      Wet  Dark - Street Lights On           0             0            N  \n2      Dry                 Daylight           0             0            N  \n3      Dry                 Daylight           0             0            N  \n4      Wet                 Daylight           0             0            N  "
                    },
                    "execution_count": 14,
                    "metadata": {},
                    "output_type": "execute_result"
                }
            ],
            "source": "COL1.rename(columns={'X':'Latitude','Y':'Longitude'}, inplace=True)\nCOL1.head()"
        },
        {
            "cell_type": "code",
            "execution_count": 16,
            "metadata": {},
            "outputs": [
                {
                    "data": {
                        "text/plain": "SEVERITYCODE    1.000000\nLatitude        0.010309\nLongitude       0.017737\nPERSONCOUNT     0.130949\nPEDCOUNT        0.246338\nPEDCYLCOUNT     0.214218\nSEGLANEKEY      0.104276\nCROSSWALKKEY    0.175093\nName: SEVERITYCODE, dtype: float64"
                    },
                    "execution_count": 16,
                    "metadata": {},
                    "output_type": "execute_result"
                }
            ],
            "source": "COL1.corr()['SEVERITYCODE']"
        },
        {
            "cell_type": "markdown",
            "metadata": {},
            "source": "<h4>Counting NaN values"
        },
        {
            "cell_type": "code",
            "execution_count": 17,
            "metadata": {
                "scrolled": false
            },
            "outputs": [
                {
                    "data": {
                        "text/plain": "SEVERITYCODE        0\nLatitude         5334\nLongitude        5334\nCOLLISIONTYPE    4904\nPERSONCOUNT         0\nPEDCOUNT            0\nPEDCYLCOUNT         0\nJUNCTIONTYPE     6329\nUNDERINFL        4884\nWEATHER          5081\nROADCOND         5012\nLIGHTCOND        5170\nSEGLANEKEY          0\nCROSSWALKKEY        0\nHITPARKEDCAR        0\ndtype: int64"
                    },
                    "execution_count": 17,
                    "metadata": {},
                    "output_type": "execute_result"
                }
            ],
            "source": "count_nan=len(COL1)-COL1.count()\ncount_nan"
        },
        {
            "cell_type": "markdown",
            "metadata": {},
            "source": "<h4>Removing rows with NaN values"
        },
        {
            "cell_type": "code",
            "execution_count": 18,
            "metadata": {},
            "outputs": [
                {
                    "data": {
                        "text/plain": "SEVERITYCODE     0\nLatitude         0\nLongitude        0\nCOLLISIONTYPE    0\nPERSONCOUNT      0\nPEDCOUNT         0\nPEDCYLCOUNT      0\nJUNCTIONTYPE     0\nUNDERINFL        0\nWEATHER          0\nROADCOND         0\nLIGHTCOND        0\nSEGLANEKEY       0\nCROSSWALKKEY     0\nHITPARKEDCAR     0\ndtype: int64"
                    },
                    "execution_count": 18,
                    "metadata": {},
                    "output_type": "execute_result"
                }
            ],
            "source": "COL2 = COL1.dropna()\ncount_nan=len(COL2)-COL2.count()\ncount_nan"
        },
        {
            "cell_type": "markdown",
            "metadata": {},
            "source": "<h4>Replacing data in HITPARKEDCAR with 1s and 0s"
        },
        {
            "cell_type": "code",
            "execution_count": 19,
            "metadata": {},
            "outputs": [
                {
                    "data": {
                        "text/plain": "N    174386\nY      5681\nName: HITPARKEDCAR, dtype: int64"
                    },
                    "execution_count": 19,
                    "metadata": {},
                    "output_type": "execute_result"
                }
            ],
            "source": "b2 = COL2['HITPARKEDCAR'].value_counts()\nb2"
        },
        {
            "cell_type": "code",
            "execution_count": 20,
            "metadata": {
                "scrolled": false
            },
            "outputs": [
                {
                    "name": "stderr",
                    "output_type": "stream",
                    "text": "C:\\Users\\Rotortex-Produccion\\anaconda3\\lib\\site-packages\\pandas\\core\\generic.py:6746: SettingWithCopyWarning: \nA value is trying to be set on a copy of a slice from a DataFrame\n\nSee the caveats in the documentation: https://pandas.pydata.org/pandas-docs/stable/user_guide/indexing.html#returning-a-view-versus-a-copy\n  self._update_inplace(new_data)\n"
                },
                {
                    "data": {
                        "text/html": "<div>\n<style scoped>\n    .dataframe tbody tr th:only-of-type {\n        vertical-align: middle;\n    }\n\n    .dataframe tbody tr th {\n        vertical-align: top;\n    }\n\n    .dataframe thead th {\n        text-align: right;\n    }\n</style>\n<table border=\"1\" class=\"dataframe\">\n  <thead>\n    <tr style=\"text-align: right;\">\n      <th></th>\n      <th>SEVERITYCODE</th>\n      <th>Latitude</th>\n      <th>Longitude</th>\n      <th>COLLISIONTYPE</th>\n      <th>PERSONCOUNT</th>\n      <th>PEDCOUNT</th>\n      <th>PEDCYLCOUNT</th>\n      <th>JUNCTIONTYPE</th>\n      <th>UNDERINFL</th>\n      <th>WEATHER</th>\n      <th>ROADCOND</th>\n      <th>LIGHTCOND</th>\n      <th>SEGLANEKEY</th>\n      <th>CROSSWALKKEY</th>\n      <th>HITPARKEDCAR</th>\n    </tr>\n  </thead>\n  <tbody>\n    <tr>\n      <th>0</th>\n      <td>2</td>\n      <td>-122.323148</td>\n      <td>47.703140</td>\n      <td>Angles</td>\n      <td>2</td>\n      <td>0</td>\n      <td>0</td>\n      <td>At Intersection (intersection related)</td>\n      <td>N</td>\n      <td>Overcast</td>\n      <td>Wet</td>\n      <td>Daylight</td>\n      <td>0</td>\n      <td>0</td>\n      <td>0</td>\n    </tr>\n    <tr>\n      <th>1</th>\n      <td>1</td>\n      <td>-122.347294</td>\n      <td>47.647172</td>\n      <td>Sideswipe</td>\n      <td>2</td>\n      <td>0</td>\n      <td>0</td>\n      <td>Mid-Block (not related to intersection)</td>\n      <td>0</td>\n      <td>Raining</td>\n      <td>Wet</td>\n      <td>Dark - Street Lights On</td>\n      <td>0</td>\n      <td>0</td>\n      <td>0</td>\n    </tr>\n    <tr>\n      <th>2</th>\n      <td>1</td>\n      <td>-122.334540</td>\n      <td>47.607871</td>\n      <td>Parked Car</td>\n      <td>4</td>\n      <td>0</td>\n      <td>0</td>\n      <td>Mid-Block (not related to intersection)</td>\n      <td>0</td>\n      <td>Overcast</td>\n      <td>Dry</td>\n      <td>Daylight</td>\n      <td>0</td>\n      <td>0</td>\n      <td>0</td>\n    </tr>\n    <tr>\n      <th>3</th>\n      <td>1</td>\n      <td>-122.334803</td>\n      <td>47.604803</td>\n      <td>Other</td>\n      <td>3</td>\n      <td>0</td>\n      <td>0</td>\n      <td>Mid-Block (not related to intersection)</td>\n      <td>N</td>\n      <td>Clear</td>\n      <td>Dry</td>\n      <td>Daylight</td>\n      <td>0</td>\n      <td>0</td>\n      <td>0</td>\n    </tr>\n    <tr>\n      <th>4</th>\n      <td>2</td>\n      <td>-122.306426</td>\n      <td>47.545739</td>\n      <td>Angles</td>\n      <td>2</td>\n      <td>0</td>\n      <td>0</td>\n      <td>At Intersection (intersection related)</td>\n      <td>0</td>\n      <td>Raining</td>\n      <td>Wet</td>\n      <td>Daylight</td>\n      <td>0</td>\n      <td>0</td>\n      <td>0</td>\n    </tr>\n  </tbody>\n</table>\n</div>",
                        "text/plain": "   SEVERITYCODE    Latitude  Longitude COLLISIONTYPE  PERSONCOUNT  PEDCOUNT  \\\n0             2 -122.323148  47.703140        Angles            2         0   \n1             1 -122.347294  47.647172     Sideswipe            2         0   \n2             1 -122.334540  47.607871    Parked Car            4         0   \n3             1 -122.334803  47.604803         Other            3         0   \n4             2 -122.306426  47.545739        Angles            2         0   \n\n   PEDCYLCOUNT                             JUNCTIONTYPE UNDERINFL   WEATHER  \\\n0            0   At Intersection (intersection related)         N  Overcast   \n1            0  Mid-Block (not related to intersection)         0   Raining   \n2            0  Mid-Block (not related to intersection)         0  Overcast   \n3            0  Mid-Block (not related to intersection)         N     Clear   \n4            0   At Intersection (intersection related)         0   Raining   \n\n  ROADCOND                LIGHTCOND  SEGLANEKEY  CROSSWALKKEY  HITPARKEDCAR  \n0      Wet                 Daylight           0             0             0  \n1      Wet  Dark - Street Lights On           0             0             0  \n2      Dry                 Daylight           0             0             0  \n3      Dry                 Daylight           0             0             0  \n4      Wet                 Daylight           0             0             0  "
                    },
                    "execution_count": 20,
                    "metadata": {},
                    "output_type": "execute_result"
                }
            ],
            "source": "COL2['HITPARKEDCAR'].replace(to_replace=['N','Y'], value=[0,1],inplace=True)\nCOL2.head()"
        },
        {
            "cell_type": "markdown",
            "metadata": {},
            "source": "<h4> Replacing UNIDERINF values for 1s and 0s using replace"
        },
        {
            "cell_type": "code",
            "execution_count": 21,
            "metadata": {
                "scrolled": false
            },
            "outputs": [
                {
                    "name": "stderr",
                    "output_type": "stream",
                    "text": "C:\\Users\\Rotortex-Produccion\\anaconda3\\lib\\site-packages\\pandas\\core\\generic.py:6746: SettingWithCopyWarning: \nA value is trying to be set on a copy of a slice from a DataFrame\n\nSee the caveats in the documentation: https://pandas.pydata.org/pandas-docs/stable/user_guide/indexing.html#returning-a-view-versus-a-copy\n  self._update_inplace(new_data)\n"
                },
                {
                    "data": {
                        "text/html": "<div>\n<style scoped>\n    .dataframe tbody tr th:only-of-type {\n        vertical-align: middle;\n    }\n\n    .dataframe tbody tr th {\n        vertical-align: top;\n    }\n\n    .dataframe thead th {\n        text-align: right;\n    }\n</style>\n<table border=\"1\" class=\"dataframe\">\n  <thead>\n    <tr style=\"text-align: right;\">\n      <th></th>\n      <th>SEVERITYCODE</th>\n      <th>Latitude</th>\n      <th>Longitude</th>\n      <th>COLLISIONTYPE</th>\n      <th>PERSONCOUNT</th>\n      <th>PEDCOUNT</th>\n      <th>PEDCYLCOUNT</th>\n      <th>JUNCTIONTYPE</th>\n      <th>UNDERINFL</th>\n      <th>WEATHER</th>\n      <th>ROADCOND</th>\n      <th>LIGHTCOND</th>\n      <th>SEGLANEKEY</th>\n      <th>CROSSWALKKEY</th>\n      <th>HITPARKEDCAR</th>\n    </tr>\n  </thead>\n  <tbody>\n    <tr>\n      <th>0</th>\n      <td>2</td>\n      <td>-122.323148</td>\n      <td>47.703140</td>\n      <td>Angles</td>\n      <td>2</td>\n      <td>0</td>\n      <td>0</td>\n      <td>At Intersection (intersection related)</td>\n      <td>0</td>\n      <td>Overcast</td>\n      <td>Wet</td>\n      <td>Daylight</td>\n      <td>0</td>\n      <td>0</td>\n      <td>0</td>\n    </tr>\n    <tr>\n      <th>1</th>\n      <td>1</td>\n      <td>-122.347294</td>\n      <td>47.647172</td>\n      <td>Sideswipe</td>\n      <td>2</td>\n      <td>0</td>\n      <td>0</td>\n      <td>Mid-Block (not related to intersection)</td>\n      <td>0</td>\n      <td>Raining</td>\n      <td>Wet</td>\n      <td>Dark - Street Lights On</td>\n      <td>0</td>\n      <td>0</td>\n      <td>0</td>\n    </tr>\n    <tr>\n      <th>2</th>\n      <td>1</td>\n      <td>-122.334540</td>\n      <td>47.607871</td>\n      <td>Parked Car</td>\n      <td>4</td>\n      <td>0</td>\n      <td>0</td>\n      <td>Mid-Block (not related to intersection)</td>\n      <td>0</td>\n      <td>Overcast</td>\n      <td>Dry</td>\n      <td>Daylight</td>\n      <td>0</td>\n      <td>0</td>\n      <td>0</td>\n    </tr>\n    <tr>\n      <th>3</th>\n      <td>1</td>\n      <td>-122.334803</td>\n      <td>47.604803</td>\n      <td>Other</td>\n      <td>3</td>\n      <td>0</td>\n      <td>0</td>\n      <td>Mid-Block (not related to intersection)</td>\n      <td>0</td>\n      <td>Clear</td>\n      <td>Dry</td>\n      <td>Daylight</td>\n      <td>0</td>\n      <td>0</td>\n      <td>0</td>\n    </tr>\n    <tr>\n      <th>4</th>\n      <td>2</td>\n      <td>-122.306426</td>\n      <td>47.545739</td>\n      <td>Angles</td>\n      <td>2</td>\n      <td>0</td>\n      <td>0</td>\n      <td>At Intersection (intersection related)</td>\n      <td>0</td>\n      <td>Raining</td>\n      <td>Wet</td>\n      <td>Daylight</td>\n      <td>0</td>\n      <td>0</td>\n      <td>0</td>\n    </tr>\n  </tbody>\n</table>\n</div>",
                        "text/plain": "   SEVERITYCODE    Latitude  Longitude COLLISIONTYPE  PERSONCOUNT  PEDCOUNT  \\\n0             2 -122.323148  47.703140        Angles            2         0   \n1             1 -122.347294  47.647172     Sideswipe            2         0   \n2             1 -122.334540  47.607871    Parked Car            4         0   \n3             1 -122.334803  47.604803         Other            3         0   \n4             2 -122.306426  47.545739        Angles            2         0   \n\n   PEDCYLCOUNT                             JUNCTIONTYPE  UNDERINFL   WEATHER  \\\n0            0   At Intersection (intersection related)          0  Overcast   \n1            0  Mid-Block (not related to intersection)          0   Raining   \n2            0  Mid-Block (not related to intersection)          0  Overcast   \n3            0  Mid-Block (not related to intersection)          0     Clear   \n4            0   At Intersection (intersection related)          0   Raining   \n\n  ROADCOND                LIGHTCOND  SEGLANEKEY  CROSSWALKKEY  HITPARKEDCAR  \n0      Wet                 Daylight           0             0             0  \n1      Wet  Dark - Street Lights On           0             0             0  \n2      Dry                 Daylight           0             0             0  \n3      Dry                 Daylight           0             0             0  \n4      Wet                 Daylight           0             0             0  "
                    },
                    "execution_count": 21,
                    "metadata": {},
                    "output_type": "execute_result"
                }
            ],
            "source": "COL2['UNDERINFL'].replace(to_replace=['N','Y','0','1'], value=[0,1,0,1],inplace=True)\nCOL2.head()"
        },
        {
            "cell_type": "markdown",
            "metadata": {},
            "source": "<h4> Using lambda function to rename and join columns to clean the data. Then, using dummys and concatenate to change COLLISIONTYPE to columns with 1s and 0s, and finally, drop column COLLISIONTYPE "
        },
        {
            "cell_type": "code",
            "execution_count": 22,
            "metadata": {
                "scrolled": true
            },
            "outputs": [
                {
                    "data": {
                        "text/plain": "Parked Car    42886\nAngles        34353\nRear Ended    32778\nOther         21907\nSideswipe     17862\nLeft Turn     13586\nPedestrian     6481\nCycles         5334\nRight Turn     2901\nHead On        1979\nName: COLLISIONTYPE, dtype: int64"
                    },
                    "execution_count": 22,
                    "metadata": {},
                    "output_type": "execute_result"
                }
            ],
            "source": "cl2 = COL2\ncl2['COLLISIONTYPE'].value_counts()"
        },
        {
            "cell_type": "code",
            "execution_count": 23,
            "metadata": {},
            "outputs": [
                {
                    "name": "stderr",
                    "output_type": "stream",
                    "text": "<ipython-input-23-7202042231c8>:9: SettingWithCopyWarning: \nA value is trying to be set on a copy of a slice from a DataFrame.\nTry using .loc[row_indexer,col_indexer] = value instead\n\nSee the caveats in the documentation: https://pandas.pydata.org/pandas-docs/stable/user_guide/indexing.html#returning-a-view-versus-a-copy\n  cl2['COLLISIONTYPE'] = cl2.apply(lambda cl2 : renaming(cl2['COLLISIONTYPE']),axis=1)\n"
                },
                {
                    "data": {
                        "text/plain": "Parked Car           42886\nAngles               34353\nRear Ended           32778\nOther                26787\nSideswipe            17862\nLeft Turn            13586\nPedestrian/Cycles    11815\nName: COLLISIONTYPE, dtype: int64"
                    },
                    "execution_count": 23,
                    "metadata": {},
                    "output_type": "execute_result"
                }
            ],
            "source": "def renaming(data):\n    if data == 'Head On' or data =='Right Turn':\n        return 'Other'\n    elif data =='Cycles' or data =='Pedestrian':\n        return 'Pedestrian/Cycles'\n    else:\n        return data\n\ncl2['COLLISIONTYPE'] = cl2.apply(lambda cl2 : renaming(cl2['COLLISIONTYPE']),axis=1)\ncl2['COLLISIONTYPE'].value_counts()"
        },
        {
            "cell_type": "code",
            "execution_count": 24,
            "metadata": {
                "scrolled": false
            },
            "outputs": [
                {
                    "data": {
                        "text/html": "<div>\n<style scoped>\n    .dataframe tbody tr th:only-of-type {\n        vertical-align: middle;\n    }\n\n    .dataframe tbody tr th {\n        vertical-align: top;\n    }\n\n    .dataframe thead th {\n        text-align: right;\n    }\n</style>\n<table border=\"1\" class=\"dataframe\">\n  <thead>\n    <tr style=\"text-align: right;\">\n      <th></th>\n      <th>SEVERITYCODE</th>\n      <th>Latitude</th>\n      <th>Longitude</th>\n      <th>PERSONCOUNT</th>\n      <th>PEDCOUNT</th>\n      <th>PEDCYLCOUNT</th>\n      <th>JUNCTIONTYPE</th>\n      <th>UNDERINFL</th>\n      <th>WEATHER</th>\n      <th>ROADCOND</th>\n      <th>LIGHTCOND</th>\n      <th>SEGLANEKEY</th>\n      <th>CROSSWALKKEY</th>\n      <th>HITPARKEDCAR</th>\n      <th>Angles</th>\n      <th>Left Turn</th>\n      <th>Other</th>\n      <th>Parked Car</th>\n      <th>Pedestrian/Cycles</th>\n      <th>Rear Ended</th>\n      <th>Sideswipe</th>\n    </tr>\n  </thead>\n  <tbody>\n    <tr>\n      <th>0</th>\n      <td>2</td>\n      <td>-122.323148</td>\n      <td>47.703140</td>\n      <td>2</td>\n      <td>0</td>\n      <td>0</td>\n      <td>At Intersection (intersection related)</td>\n      <td>0</td>\n      <td>Overcast</td>\n      <td>Wet</td>\n      <td>Daylight</td>\n      <td>0</td>\n      <td>0</td>\n      <td>0</td>\n      <td>1</td>\n      <td>0</td>\n      <td>0</td>\n      <td>0</td>\n      <td>0</td>\n      <td>0</td>\n      <td>0</td>\n    </tr>\n    <tr>\n      <th>1</th>\n      <td>1</td>\n      <td>-122.347294</td>\n      <td>47.647172</td>\n      <td>2</td>\n      <td>0</td>\n      <td>0</td>\n      <td>Mid-Block (not related to intersection)</td>\n      <td>0</td>\n      <td>Raining</td>\n      <td>Wet</td>\n      <td>Dark - Street Lights On</td>\n      <td>0</td>\n      <td>0</td>\n      <td>0</td>\n      <td>0</td>\n      <td>0</td>\n      <td>0</td>\n      <td>0</td>\n      <td>0</td>\n      <td>0</td>\n      <td>1</td>\n    </tr>\n    <tr>\n      <th>2</th>\n      <td>1</td>\n      <td>-122.334540</td>\n      <td>47.607871</td>\n      <td>4</td>\n      <td>0</td>\n      <td>0</td>\n      <td>Mid-Block (not related to intersection)</td>\n      <td>0</td>\n      <td>Overcast</td>\n      <td>Dry</td>\n      <td>Daylight</td>\n      <td>0</td>\n      <td>0</td>\n      <td>0</td>\n      <td>0</td>\n      <td>0</td>\n      <td>0</td>\n      <td>1</td>\n      <td>0</td>\n      <td>0</td>\n      <td>0</td>\n    </tr>\n    <tr>\n      <th>3</th>\n      <td>1</td>\n      <td>-122.334803</td>\n      <td>47.604803</td>\n      <td>3</td>\n      <td>0</td>\n      <td>0</td>\n      <td>Mid-Block (not related to intersection)</td>\n      <td>0</td>\n      <td>Clear</td>\n      <td>Dry</td>\n      <td>Daylight</td>\n      <td>0</td>\n      <td>0</td>\n      <td>0</td>\n      <td>0</td>\n      <td>0</td>\n      <td>1</td>\n      <td>0</td>\n      <td>0</td>\n      <td>0</td>\n      <td>0</td>\n    </tr>\n    <tr>\n      <th>4</th>\n      <td>2</td>\n      <td>-122.306426</td>\n      <td>47.545739</td>\n      <td>2</td>\n      <td>0</td>\n      <td>0</td>\n      <td>At Intersection (intersection related)</td>\n      <td>0</td>\n      <td>Raining</td>\n      <td>Wet</td>\n      <td>Daylight</td>\n      <td>0</td>\n      <td>0</td>\n      <td>0</td>\n      <td>1</td>\n      <td>0</td>\n      <td>0</td>\n      <td>0</td>\n      <td>0</td>\n      <td>0</td>\n      <td>0</td>\n    </tr>\n  </tbody>\n</table>\n</div>",
                        "text/plain": "   SEVERITYCODE    Latitude  Longitude  PERSONCOUNT  PEDCOUNT  PEDCYLCOUNT  \\\n0             2 -122.323148  47.703140            2         0            0   \n1             1 -122.347294  47.647172            2         0            0   \n2             1 -122.334540  47.607871            4         0            0   \n3             1 -122.334803  47.604803            3         0            0   \n4             2 -122.306426  47.545739            2         0            0   \n\n                              JUNCTIONTYPE  UNDERINFL   WEATHER ROADCOND  \\\n0   At Intersection (intersection related)          0  Overcast      Wet   \n1  Mid-Block (not related to intersection)          0   Raining      Wet   \n2  Mid-Block (not related to intersection)          0  Overcast      Dry   \n3  Mid-Block (not related to intersection)          0     Clear      Dry   \n4   At Intersection (intersection related)          0   Raining      Wet   \n\n                 LIGHTCOND  SEGLANEKEY  CROSSWALKKEY  HITPARKEDCAR  Angles  \\\n0                 Daylight           0             0             0       1   \n1  Dark - Street Lights On           0             0             0       0   \n2                 Daylight           0             0             0       0   \n3                 Daylight           0             0             0       0   \n4                 Daylight           0             0             0       1   \n\n   Left Turn  Other  Parked Car  Pedestrian/Cycles  Rear Ended  Sideswipe  \n0          0      0           0                  0           0          0  \n1          0      0           0                  0           0          1  \n2          0      0           1                  0           0          0  \n3          0      1           0                  0           0          0  \n4          0      0           0                  0           0          0  "
                    },
                    "execution_count": 24,
                    "metadata": {},
                    "output_type": "execute_result"
                }
            ],
            "source": "cl2 = pd.concat([COL2,pd.get_dummies(COL2['COLLISIONTYPE'])], axis=1)\ncl2.drop(['COLLISIONTYPE'], axis = 1,inplace=True)\ncl2.head()"
        },
        {
            "cell_type": "markdown",
            "metadata": {},
            "source": "<h4> Using the same code, we clean JUNCTIONTYPE, turn it into 1s and 0s with dummys, concatenate the new columns, and finally, drop JUNCTIONTYPE "
        },
        {
            "cell_type": "code",
            "execution_count": 25,
            "metadata": {},
            "outputs": [
                {
                    "data": {
                        "text/plain": "Mid-Block (not related to intersection)              84513\nAt Intersection (intersection related)               60915\nMid-Block (but intersection related)                 22035\nDriveway Junction                                    10430\nAt Intersection (but not related to intersection)     2030\nRamp Junction                                          139\nUnknown                                                  5\nName: JUNCTIONTYPE, dtype: int64"
                    },
                    "execution_count": 25,
                    "metadata": {},
                    "output_type": "execute_result"
                }
            ],
            "source": "cl3 = cl2\ncl3['JUNCTIONTYPE'].value_counts()"
        },
        {
            "cell_type": "code",
            "execution_count": 26,
            "metadata": {},
            "outputs": [
                {
                    "data": {
                        "text/plain": "Mid-Block (not related to intersection)    84513\nAt Intersection (intersection related)     60915\nMid-Block (but intersection related)       22035\nOther                                      12604\nName: JUNCTIONTYPE, dtype: int64"
                    },
                    "execution_count": 26,
                    "metadata": {},
                    "output_type": "execute_result"
                }
            ],
            "source": "def renaming(data):\n    if data == 'Unknown' or data =='Ramp Junction' or data =='At Intersection (but not related to intersection)' or data =='Driveway Junction':\n        return 'Other'\n    else:\n        return data\n\ncl3['JUNCTIONTYPE'] = cl3.apply(lambda cl3 : renaming(cl3['JUNCTIONTYPE']),axis=1)\ncl3['JUNCTIONTYPE'].value_counts()"
        },
        {
            "cell_type": "code",
            "execution_count": 27,
            "metadata": {
                "scrolled": false
            },
            "outputs": [
                {
                    "data": {
                        "text/html": "<div>\n<style scoped>\n    .dataframe tbody tr th:only-of-type {\n        vertical-align: middle;\n    }\n\n    .dataframe tbody tr th {\n        vertical-align: top;\n    }\n\n    .dataframe thead th {\n        text-align: right;\n    }\n</style>\n<table border=\"1\" class=\"dataframe\">\n  <thead>\n    <tr style=\"text-align: right;\">\n      <th></th>\n      <th>SEVERITYCODE</th>\n      <th>Latitude</th>\n      <th>Longitude</th>\n      <th>PERSONCOUNT</th>\n      <th>PEDCOUNT</th>\n      <th>PEDCYLCOUNT</th>\n      <th>UNDERINFL</th>\n      <th>WEATHER</th>\n      <th>ROADCOND</th>\n      <th>LIGHTCOND</th>\n      <th>SEGLANEKEY</th>\n      <th>CROSSWALKKEY</th>\n      <th>HITPARKEDCAR</th>\n      <th>Angles</th>\n      <th>Left Turn</th>\n      <th>Other</th>\n      <th>Parked Car</th>\n      <th>Pedestrian/Cycles</th>\n      <th>Rear Ended</th>\n      <th>Sideswipe</th>\n      <th>At Intersection (intersection related)</th>\n      <th>Mid-Block (but intersection related)</th>\n      <th>Mid-Block (not related to intersection)</th>\n      <th>Other</th>\n    </tr>\n  </thead>\n  <tbody>\n    <tr>\n      <th>0</th>\n      <td>2</td>\n      <td>-122.323148</td>\n      <td>47.703140</td>\n      <td>2</td>\n      <td>0</td>\n      <td>0</td>\n      <td>0</td>\n      <td>Overcast</td>\n      <td>Wet</td>\n      <td>Daylight</td>\n      <td>0</td>\n      <td>0</td>\n      <td>0</td>\n      <td>1</td>\n      <td>0</td>\n      <td>0</td>\n      <td>0</td>\n      <td>0</td>\n      <td>0</td>\n      <td>0</td>\n      <td>1</td>\n      <td>0</td>\n      <td>0</td>\n      <td>0</td>\n    </tr>\n    <tr>\n      <th>1</th>\n      <td>1</td>\n      <td>-122.347294</td>\n      <td>47.647172</td>\n      <td>2</td>\n      <td>0</td>\n      <td>0</td>\n      <td>0</td>\n      <td>Raining</td>\n      <td>Wet</td>\n      <td>Dark - Street Lights On</td>\n      <td>0</td>\n      <td>0</td>\n      <td>0</td>\n      <td>0</td>\n      <td>0</td>\n      <td>0</td>\n      <td>0</td>\n      <td>0</td>\n      <td>0</td>\n      <td>1</td>\n      <td>0</td>\n      <td>0</td>\n      <td>1</td>\n      <td>0</td>\n    </tr>\n    <tr>\n      <th>2</th>\n      <td>1</td>\n      <td>-122.334540</td>\n      <td>47.607871</td>\n      <td>4</td>\n      <td>0</td>\n      <td>0</td>\n      <td>0</td>\n      <td>Overcast</td>\n      <td>Dry</td>\n      <td>Daylight</td>\n      <td>0</td>\n      <td>0</td>\n      <td>0</td>\n      <td>0</td>\n      <td>0</td>\n      <td>0</td>\n      <td>1</td>\n      <td>0</td>\n      <td>0</td>\n      <td>0</td>\n      <td>0</td>\n      <td>0</td>\n      <td>1</td>\n      <td>0</td>\n    </tr>\n    <tr>\n      <th>3</th>\n      <td>1</td>\n      <td>-122.334803</td>\n      <td>47.604803</td>\n      <td>3</td>\n      <td>0</td>\n      <td>0</td>\n      <td>0</td>\n      <td>Clear</td>\n      <td>Dry</td>\n      <td>Daylight</td>\n      <td>0</td>\n      <td>0</td>\n      <td>0</td>\n      <td>0</td>\n      <td>0</td>\n      <td>1</td>\n      <td>0</td>\n      <td>0</td>\n      <td>0</td>\n      <td>0</td>\n      <td>0</td>\n      <td>0</td>\n      <td>1</td>\n      <td>0</td>\n    </tr>\n    <tr>\n      <th>4</th>\n      <td>2</td>\n      <td>-122.306426</td>\n      <td>47.545739</td>\n      <td>2</td>\n      <td>0</td>\n      <td>0</td>\n      <td>0</td>\n      <td>Raining</td>\n      <td>Wet</td>\n      <td>Daylight</td>\n      <td>0</td>\n      <td>0</td>\n      <td>0</td>\n      <td>1</td>\n      <td>0</td>\n      <td>0</td>\n      <td>0</td>\n      <td>0</td>\n      <td>0</td>\n      <td>0</td>\n      <td>1</td>\n      <td>0</td>\n      <td>0</td>\n      <td>0</td>\n    </tr>\n  </tbody>\n</table>\n</div>",
                        "text/plain": "   SEVERITYCODE    Latitude  Longitude  PERSONCOUNT  PEDCOUNT  PEDCYLCOUNT  \\\n0             2 -122.323148  47.703140            2         0            0   \n1             1 -122.347294  47.647172            2         0            0   \n2             1 -122.334540  47.607871            4         0            0   \n3             1 -122.334803  47.604803            3         0            0   \n4             2 -122.306426  47.545739            2         0            0   \n\n   UNDERINFL   WEATHER ROADCOND                LIGHTCOND  SEGLANEKEY  \\\n0          0  Overcast      Wet                 Daylight           0   \n1          0   Raining      Wet  Dark - Street Lights On           0   \n2          0  Overcast      Dry                 Daylight           0   \n3          0     Clear      Dry                 Daylight           0   \n4          0   Raining      Wet                 Daylight           0   \n\n   CROSSWALKKEY  HITPARKEDCAR  Angles  Left Turn  Other  Parked Car  \\\n0             0             0       1          0      0           0   \n1             0             0       0          0      0           0   \n2             0             0       0          0      0           1   \n3             0             0       0          0      1           0   \n4             0             0       1          0      0           0   \n\n   Pedestrian/Cycles  Rear Ended  Sideswipe  \\\n0                  0           0          0   \n1                  0           0          1   \n2                  0           0          0   \n3                  0           0          0   \n4                  0           0          0   \n\n   At Intersection (intersection related)  \\\n0                                       1   \n1                                       0   \n2                                       0   \n3                                       0   \n4                                       1   \n\n   Mid-Block (but intersection related)  \\\n0                                     0   \n1                                     0   \n2                                     0   \n3                                     0   \n4                                     0   \n\n   Mid-Block (not related to intersection)  Other  \n0                                        0      0  \n1                                        1      0  \n2                                        1      0  \n3                                        1      0  \n4                                        0      0  "
                    },
                    "execution_count": 27,
                    "metadata": {},
                    "output_type": "execute_result"
                }
            ],
            "source": "cl3 = pd.concat([cl2,pd.get_dummies(cl2['JUNCTIONTYPE'])], axis=1)\ncl3.drop(['JUNCTIONTYPE'], axis = 1,inplace=True)\ncl3.head()"
        },
        {
            "cell_type": "markdown",
            "metadata": {},
            "source": "<h4> Using the same code, we clean WEATHER, turn it into 1s and 0s with dummys, concatenate the new columns, and finally, drop WEATHER column"
        },
        {
            "cell_type": "code",
            "execution_count": 28,
            "metadata": {
                "scrolled": true
            },
            "outputs": [
                {
                    "data": {
                        "text/plain": "Clear                       107692\nRaining                      31719\nOvercast                     26809\nUnknown                      11505\nSnowing                        875\nOther                          728\nFog/Smog/Smoke                 549\nSleet/Hail/Freezing Rain       112\nBlowing Sand/Dirt               49\nSevere Crosswind                24\nPartly Cloudy                    5\nName: WEATHER, dtype: int64"
                    },
                    "execution_count": 28,
                    "metadata": {},
                    "output_type": "execute_result"
                }
            ],
            "source": "cl3['WEATHER'].value_counts()"
        },
        {
            "cell_type": "code",
            "execution_count": 29,
            "metadata": {},
            "outputs": [
                {
                    "data": {
                        "text/plain": "Clear       107692\nRaining      31719\nOvercast     26809\nOther        13847\nName: WEATHER, dtype: int64"
                    },
                    "execution_count": 29,
                    "metadata": {},
                    "output_type": "execute_result"
                }
            ],
            "source": "def renaming(data):\n    if data == 'Fog/Smog/Smoke' or data =='Blowing Sand/Dirt' or data =='Severe Crosswind' or data =='Partly Cloudy' or data =='Sleet/Hail/Freezing Rain' or data=='Snowing' or data=='Unknown':\n        return 'Other'\n    else:\n        return data\n\ncl3['WEATHER'] = cl3.apply(lambda cl3 : renaming(cl3['WEATHER']),axis=1)\ncl3['WEATHER'].value_counts()"
        },
        {
            "cell_type": "code",
            "execution_count": 30,
            "metadata": {
                "scrolled": true
            },
            "outputs": [
                {
                    "data": {
                        "text/html": "<div>\n<style scoped>\n    .dataframe tbody tr th:only-of-type {\n        vertical-align: middle;\n    }\n\n    .dataframe tbody tr th {\n        vertical-align: top;\n    }\n\n    .dataframe thead th {\n        text-align: right;\n    }\n</style>\n<table border=\"1\" class=\"dataframe\">\n  <thead>\n    <tr style=\"text-align: right;\">\n      <th></th>\n      <th>SEVERITYCODE</th>\n      <th>Latitude</th>\n      <th>Longitude</th>\n      <th>PERSONCOUNT</th>\n      <th>PEDCOUNT</th>\n      <th>PEDCYLCOUNT</th>\n      <th>UNDERINFL</th>\n      <th>ROADCOND</th>\n      <th>LIGHTCOND</th>\n      <th>SEGLANEKEY</th>\n      <th>CROSSWALKKEY</th>\n      <th>HITPARKEDCAR</th>\n      <th>Angles</th>\n      <th>Left Turn</th>\n      <th>Other</th>\n      <th>Parked Car</th>\n      <th>Pedestrian/Cycles</th>\n      <th>Rear Ended</th>\n      <th>Sideswipe</th>\n      <th>At Intersection (intersection related)</th>\n      <th>Mid-Block (but intersection related)</th>\n      <th>Mid-Block (not related to intersection)</th>\n      <th>Other</th>\n      <th>Clear</th>\n      <th>Other</th>\n      <th>Overcast</th>\n      <th>Raining</th>\n    </tr>\n  </thead>\n  <tbody>\n    <tr>\n      <th>0</th>\n      <td>2</td>\n      <td>-122.323148</td>\n      <td>47.703140</td>\n      <td>2</td>\n      <td>0</td>\n      <td>0</td>\n      <td>0</td>\n      <td>Wet</td>\n      <td>Daylight</td>\n      <td>0</td>\n      <td>0</td>\n      <td>0</td>\n      <td>1</td>\n      <td>0</td>\n      <td>0</td>\n      <td>0</td>\n      <td>0</td>\n      <td>0</td>\n      <td>0</td>\n      <td>1</td>\n      <td>0</td>\n      <td>0</td>\n      <td>0</td>\n      <td>0</td>\n      <td>0</td>\n      <td>1</td>\n      <td>0</td>\n    </tr>\n    <tr>\n      <th>1</th>\n      <td>1</td>\n      <td>-122.347294</td>\n      <td>47.647172</td>\n      <td>2</td>\n      <td>0</td>\n      <td>0</td>\n      <td>0</td>\n      <td>Wet</td>\n      <td>Dark - Street Lights On</td>\n      <td>0</td>\n      <td>0</td>\n      <td>0</td>\n      <td>0</td>\n      <td>0</td>\n      <td>0</td>\n      <td>0</td>\n      <td>0</td>\n      <td>0</td>\n      <td>1</td>\n      <td>0</td>\n      <td>0</td>\n      <td>1</td>\n      <td>0</td>\n      <td>0</td>\n      <td>0</td>\n      <td>0</td>\n      <td>1</td>\n    </tr>\n    <tr>\n      <th>2</th>\n      <td>1</td>\n      <td>-122.334540</td>\n      <td>47.607871</td>\n      <td>4</td>\n      <td>0</td>\n      <td>0</td>\n      <td>0</td>\n      <td>Dry</td>\n      <td>Daylight</td>\n      <td>0</td>\n      <td>0</td>\n      <td>0</td>\n      <td>0</td>\n      <td>0</td>\n      <td>0</td>\n      <td>1</td>\n      <td>0</td>\n      <td>0</td>\n      <td>0</td>\n      <td>0</td>\n      <td>0</td>\n      <td>1</td>\n      <td>0</td>\n      <td>0</td>\n      <td>0</td>\n      <td>1</td>\n      <td>0</td>\n    </tr>\n    <tr>\n      <th>3</th>\n      <td>1</td>\n      <td>-122.334803</td>\n      <td>47.604803</td>\n      <td>3</td>\n      <td>0</td>\n      <td>0</td>\n      <td>0</td>\n      <td>Dry</td>\n      <td>Daylight</td>\n      <td>0</td>\n      <td>0</td>\n      <td>0</td>\n      <td>0</td>\n      <td>0</td>\n      <td>1</td>\n      <td>0</td>\n      <td>0</td>\n      <td>0</td>\n      <td>0</td>\n      <td>0</td>\n      <td>0</td>\n      <td>1</td>\n      <td>0</td>\n      <td>1</td>\n      <td>0</td>\n      <td>0</td>\n      <td>0</td>\n    </tr>\n    <tr>\n      <th>4</th>\n      <td>2</td>\n      <td>-122.306426</td>\n      <td>47.545739</td>\n      <td>2</td>\n      <td>0</td>\n      <td>0</td>\n      <td>0</td>\n      <td>Wet</td>\n      <td>Daylight</td>\n      <td>0</td>\n      <td>0</td>\n      <td>0</td>\n      <td>1</td>\n      <td>0</td>\n      <td>0</td>\n      <td>0</td>\n      <td>0</td>\n      <td>0</td>\n      <td>0</td>\n      <td>1</td>\n      <td>0</td>\n      <td>0</td>\n      <td>0</td>\n      <td>0</td>\n      <td>0</td>\n      <td>0</td>\n      <td>1</td>\n    </tr>\n  </tbody>\n</table>\n</div>",
                        "text/plain": "   SEVERITYCODE    Latitude  Longitude  PERSONCOUNT  PEDCOUNT  PEDCYLCOUNT  \\\n0             2 -122.323148  47.703140            2         0            0   \n1             1 -122.347294  47.647172            2         0            0   \n2             1 -122.334540  47.607871            4         0            0   \n3             1 -122.334803  47.604803            3         0            0   \n4             2 -122.306426  47.545739            2         0            0   \n\n   UNDERINFL ROADCOND                LIGHTCOND  SEGLANEKEY  CROSSWALKKEY  \\\n0          0      Wet                 Daylight           0             0   \n1          0      Wet  Dark - Street Lights On           0             0   \n2          0      Dry                 Daylight           0             0   \n3          0      Dry                 Daylight           0             0   \n4          0      Wet                 Daylight           0             0   \n\n   HITPARKEDCAR  Angles  Left Turn  Other  Parked Car  Pedestrian/Cycles  \\\n0             0       1          0      0           0                  0   \n1             0       0          0      0           0                  0   \n2             0       0          0      0           1                  0   \n3             0       0          0      1           0                  0   \n4             0       1          0      0           0                  0   \n\n   Rear Ended  Sideswipe  At Intersection (intersection related)  \\\n0           0          0                                       1   \n1           0          1                                       0   \n2           0          0                                       0   \n3           0          0                                       0   \n4           0          0                                       1   \n\n   Mid-Block (but intersection related)  \\\n0                                     0   \n1                                     0   \n2                                     0   \n3                                     0   \n4                                     0   \n\n   Mid-Block (not related to intersection)  Other  Clear  Other  Overcast  \\\n0                                        0      0      0      0         1   \n1                                        1      0      0      0         0   \n2                                        1      0      0      0         1   \n3                                        1      0      1      0         0   \n4                                        0      0      0      0         0   \n\n   Raining  \n0        0  \n1        1  \n2        0  \n3        0  \n4        1  "
                    },
                    "execution_count": 30,
                    "metadata": {},
                    "output_type": "execute_result"
                }
            ],
            "source": "cl4 = cl3\ncl4 = pd.concat([cl3,pd.get_dummies(cl3['WEATHER'])], axis=1)\ncl4.drop(['WEATHER'], axis = 1,inplace=True)\ncl4.head()"
        },
        {
            "cell_type": "markdown",
            "metadata": {},
            "source": "<h4> Using the same code, we clean ROADCOND, turn it into 1s and 0s with dummys, concatenate the new columns, and finally, drop ROADCOND column"
        },
        {
            "cell_type": "code",
            "execution_count": 31,
            "metadata": {
                "scrolled": true
            },
            "outputs": [
                {
                    "data": {
                        "text/plain": "Dry               120629\nWet                45597\nUnknown            11384\nIce                 1161\nSnow/Slush           971\nOther                115\nStanding Water        99\nSand/Mud/Dirt         62\nOil                   49\nName: ROADCOND, dtype: int64"
                    },
                    "execution_count": 31,
                    "metadata": {},
                    "output_type": "execute_result"
                }
            ],
            "source": "cl5 = cl4\ncl5['ROADCOND'].value_counts()"
        },
        {
            "cell_type": "code",
            "execution_count": 32,
            "metadata": {},
            "outputs": [
                {
                    "data": {
                        "text/plain": "Dry        120629\nWet         45597\nUnknown     11384\nOther        2457\nName: ROADCOND, dtype: int64"
                    },
                    "execution_count": 32,
                    "metadata": {},
                    "output_type": "execute_result"
                }
            ],
            "source": "def renaming(data):\n    if data == 'Oil' or data =='Sand/Mud/Dirt' or data =='Standing Water' or data =='Snow/Slush' or data =='Ice':\n        return 'Other'\n    else:\n        return data\n\ncl5['ROADCOND'] = cl5.apply(lambda cl5 : renaming(cl5['ROADCOND']),axis=1)\ncl5['ROADCOND'].value_counts()"
        },
        {
            "cell_type": "code",
            "execution_count": 33,
            "metadata": {
                "scrolled": false
            },
            "outputs": [
                {
                    "data": {
                        "text/html": "<div>\n<style scoped>\n    .dataframe tbody tr th:only-of-type {\n        vertical-align: middle;\n    }\n\n    .dataframe tbody tr th {\n        vertical-align: top;\n    }\n\n    .dataframe thead th {\n        text-align: right;\n    }\n</style>\n<table border=\"1\" class=\"dataframe\">\n  <thead>\n    <tr style=\"text-align: right;\">\n      <th></th>\n      <th>SEVERITYCODE</th>\n      <th>Latitude</th>\n      <th>Longitude</th>\n      <th>PERSONCOUNT</th>\n      <th>PEDCOUNT</th>\n      <th>PEDCYLCOUNT</th>\n      <th>UNDERINFL</th>\n      <th>LIGHTCOND</th>\n      <th>SEGLANEKEY</th>\n      <th>CROSSWALKKEY</th>\n      <th>HITPARKEDCAR</th>\n      <th>Angles</th>\n      <th>Left Turn</th>\n      <th>Other</th>\n      <th>Parked Car</th>\n      <th>Pedestrian/Cycles</th>\n      <th>Rear Ended</th>\n      <th>Sideswipe</th>\n      <th>At Intersection (intersection related)</th>\n      <th>Mid-Block (but intersection related)</th>\n      <th>Mid-Block (not related to intersection)</th>\n      <th>Other</th>\n      <th>Clear</th>\n      <th>Other</th>\n      <th>Overcast</th>\n      <th>Raining</th>\n      <th>Dry</th>\n      <th>Other</th>\n      <th>Unknown</th>\n      <th>Wet</th>\n    </tr>\n  </thead>\n  <tbody>\n    <tr>\n      <th>0</th>\n      <td>2</td>\n      <td>-122.323148</td>\n      <td>47.703140</td>\n      <td>2</td>\n      <td>0</td>\n      <td>0</td>\n      <td>0</td>\n      <td>Daylight</td>\n      <td>0</td>\n      <td>0</td>\n      <td>0</td>\n      <td>1</td>\n      <td>0</td>\n      <td>0</td>\n      <td>0</td>\n      <td>0</td>\n      <td>0</td>\n      <td>0</td>\n      <td>1</td>\n      <td>0</td>\n      <td>0</td>\n      <td>0</td>\n      <td>0</td>\n      <td>0</td>\n      <td>1</td>\n      <td>0</td>\n      <td>0</td>\n      <td>0</td>\n      <td>0</td>\n      <td>1</td>\n    </tr>\n    <tr>\n      <th>1</th>\n      <td>1</td>\n      <td>-122.347294</td>\n      <td>47.647172</td>\n      <td>2</td>\n      <td>0</td>\n      <td>0</td>\n      <td>0</td>\n      <td>Dark - Street Lights On</td>\n      <td>0</td>\n      <td>0</td>\n      <td>0</td>\n      <td>0</td>\n      <td>0</td>\n      <td>0</td>\n      <td>0</td>\n      <td>0</td>\n      <td>0</td>\n      <td>1</td>\n      <td>0</td>\n      <td>0</td>\n      <td>1</td>\n      <td>0</td>\n      <td>0</td>\n      <td>0</td>\n      <td>0</td>\n      <td>1</td>\n      <td>0</td>\n      <td>0</td>\n      <td>0</td>\n      <td>1</td>\n    </tr>\n    <tr>\n      <th>2</th>\n      <td>1</td>\n      <td>-122.334540</td>\n      <td>47.607871</td>\n      <td>4</td>\n      <td>0</td>\n      <td>0</td>\n      <td>0</td>\n      <td>Daylight</td>\n      <td>0</td>\n      <td>0</td>\n      <td>0</td>\n      <td>0</td>\n      <td>0</td>\n      <td>0</td>\n      <td>1</td>\n      <td>0</td>\n      <td>0</td>\n      <td>0</td>\n      <td>0</td>\n      <td>0</td>\n      <td>1</td>\n      <td>0</td>\n      <td>0</td>\n      <td>0</td>\n      <td>1</td>\n      <td>0</td>\n      <td>1</td>\n      <td>0</td>\n      <td>0</td>\n      <td>0</td>\n    </tr>\n    <tr>\n      <th>3</th>\n      <td>1</td>\n      <td>-122.334803</td>\n      <td>47.604803</td>\n      <td>3</td>\n      <td>0</td>\n      <td>0</td>\n      <td>0</td>\n      <td>Daylight</td>\n      <td>0</td>\n      <td>0</td>\n      <td>0</td>\n      <td>0</td>\n      <td>0</td>\n      <td>1</td>\n      <td>0</td>\n      <td>0</td>\n      <td>0</td>\n      <td>0</td>\n      <td>0</td>\n      <td>0</td>\n      <td>1</td>\n      <td>0</td>\n      <td>1</td>\n      <td>0</td>\n      <td>0</td>\n      <td>0</td>\n      <td>1</td>\n      <td>0</td>\n      <td>0</td>\n      <td>0</td>\n    </tr>\n    <tr>\n      <th>4</th>\n      <td>2</td>\n      <td>-122.306426</td>\n      <td>47.545739</td>\n      <td>2</td>\n      <td>0</td>\n      <td>0</td>\n      <td>0</td>\n      <td>Daylight</td>\n      <td>0</td>\n      <td>0</td>\n      <td>0</td>\n      <td>1</td>\n      <td>0</td>\n      <td>0</td>\n      <td>0</td>\n      <td>0</td>\n      <td>0</td>\n      <td>0</td>\n      <td>1</td>\n      <td>0</td>\n      <td>0</td>\n      <td>0</td>\n      <td>0</td>\n      <td>0</td>\n      <td>0</td>\n      <td>1</td>\n      <td>0</td>\n      <td>0</td>\n      <td>0</td>\n      <td>1</td>\n    </tr>\n  </tbody>\n</table>\n</div>",
                        "text/plain": "   SEVERITYCODE    Latitude  Longitude  PERSONCOUNT  PEDCOUNT  PEDCYLCOUNT  \\\n0             2 -122.323148  47.703140            2         0            0   \n1             1 -122.347294  47.647172            2         0            0   \n2             1 -122.334540  47.607871            4         0            0   \n3             1 -122.334803  47.604803            3         0            0   \n4             2 -122.306426  47.545739            2         0            0   \n\n   UNDERINFL                LIGHTCOND  SEGLANEKEY  CROSSWALKKEY  HITPARKEDCAR  \\\n0          0                 Daylight           0             0             0   \n1          0  Dark - Street Lights On           0             0             0   \n2          0                 Daylight           0             0             0   \n3          0                 Daylight           0             0             0   \n4          0                 Daylight           0             0             0   \n\n   Angles  Left Turn  Other  Parked Car  Pedestrian/Cycles  Rear Ended  \\\n0       1          0      0           0                  0           0   \n1       0          0      0           0                  0           0   \n2       0          0      0           1                  0           0   \n3       0          0      1           0                  0           0   \n4       1          0      0           0                  0           0   \n\n   Sideswipe  At Intersection (intersection related)  \\\n0          0                                       1   \n1          1                                       0   \n2          0                                       0   \n3          0                                       0   \n4          0                                       1   \n\n   Mid-Block (but intersection related)  \\\n0                                     0   \n1                                     0   \n2                                     0   \n3                                     0   \n4                                     0   \n\n   Mid-Block (not related to intersection)  Other  Clear  Other  Overcast  \\\n0                                        0      0      0      0         1   \n1                                        1      0      0      0         0   \n2                                        1      0      0      0         1   \n3                                        1      0      1      0         0   \n4                                        0      0      0      0         0   \n\n   Raining  Dry  Other  Unknown  Wet  \n0        0    0      0        0    1  \n1        1    0      0        0    1  \n2        0    1      0        0    0  \n3        0    1      0        0    0  \n4        1    0      0        0    1  "
                    },
                    "execution_count": 33,
                    "metadata": {},
                    "output_type": "execute_result"
                }
            ],
            "source": "cl5 = pd.concat([cl4,pd.get_dummies(cl4['ROADCOND'])], axis=1)\ncl5.drop(['ROADCOND'], axis = 1,inplace=True)\ncl5.head()"
        },
        {
            "cell_type": "markdown",
            "metadata": {},
            "source": "<h4> Using the same code, we clean LIGHTCOND, turn it into 1s and 0s with dummys, concatenate the new columns, and finally, drop LIGHTCOND column"
        },
        {
            "cell_type": "code",
            "execution_count": 34,
            "metadata": {
                "scrolled": true
            },
            "outputs": [
                {
                    "data": {
                        "text/plain": "Daylight                    112216\nDark - Street Lights On      46683\nUnknown                      10340\nDusk                          5708\nDawn                          2389\nDark - No Street Lights       1418\nDark - Street Lights Off      1130\nOther                          172\nDark - Unknown Lighting         11\nName: LIGHTCOND, dtype: int64"
                    },
                    "execution_count": 34,
                    "metadata": {},
                    "output_type": "execute_result"
                }
            ],
            "source": "cl6 = cl5\ncl6['LIGHTCOND'].value_counts()"
        },
        {
            "cell_type": "code",
            "execution_count": 35,
            "metadata": {},
            "outputs": [
                {
                    "data": {
                        "text/plain": "Daylight                   112216\nDark - Street Lights On     46683\nOther                       10828\nUnknown                     10340\nName: LIGHTCOND, dtype: int64"
                    },
                    "execution_count": 35,
                    "metadata": {},
                    "output_type": "execute_result"
                }
            ],
            "source": "def renaming(data):\n    if data == 'Dark - Unknown Lighting' or data =='Dark - Street Lights Off' or data =='Dark - No Street Lights' or data =='Dawn' or data =='Dusk':\n        return 'Other'\n    else:\n        return data\n\ncl5['LIGHTCOND'] = cl6.apply(lambda cl6 : renaming(cl6['LIGHTCOND']),axis=1)\ncl5['LIGHTCOND'].value_counts()"
        },
        {
            "cell_type": "code",
            "execution_count": 36,
            "metadata": {
                "scrolled": true
            },
            "outputs": [
                {
                    "data": {
                        "text/html": "<div>\n<style scoped>\n    .dataframe tbody tr th:only-of-type {\n        vertical-align: middle;\n    }\n\n    .dataframe tbody tr th {\n        vertical-align: top;\n    }\n\n    .dataframe thead th {\n        text-align: right;\n    }\n</style>\n<table border=\"1\" class=\"dataframe\">\n  <thead>\n    <tr style=\"text-align: right;\">\n      <th></th>\n      <th>SEVERITYCODE</th>\n      <th>Latitude</th>\n      <th>Longitude</th>\n      <th>PERSONCOUNT</th>\n      <th>PEDCOUNT</th>\n      <th>PEDCYLCOUNT</th>\n      <th>UNDERINFL</th>\n      <th>SEGLANEKEY</th>\n      <th>CROSSWALKKEY</th>\n      <th>HITPARKEDCAR</th>\n      <th>Angles</th>\n      <th>Left Turn</th>\n      <th>Other</th>\n      <th>Parked Car</th>\n      <th>Pedestrian/Cycles</th>\n      <th>Rear Ended</th>\n      <th>Sideswipe</th>\n      <th>At Intersection (intersection related)</th>\n      <th>Mid-Block (but intersection related)</th>\n      <th>Mid-Block (not related to intersection)</th>\n      <th>Other</th>\n      <th>Clear</th>\n      <th>Other</th>\n      <th>Overcast</th>\n      <th>Raining</th>\n      <th>Dry</th>\n      <th>Other</th>\n      <th>Unknown</th>\n      <th>Wet</th>\n      <th>Dark - Street Lights On</th>\n      <th>Daylight</th>\n      <th>Other</th>\n      <th>Unknown</th>\n    </tr>\n  </thead>\n  <tbody>\n    <tr>\n      <th>0</th>\n      <td>2</td>\n      <td>-122.323148</td>\n      <td>47.703140</td>\n      <td>2</td>\n      <td>0</td>\n      <td>0</td>\n      <td>0</td>\n      <td>0</td>\n      <td>0</td>\n      <td>0</td>\n      <td>1</td>\n      <td>0</td>\n      <td>0</td>\n      <td>0</td>\n      <td>0</td>\n      <td>0</td>\n      <td>0</td>\n      <td>1</td>\n      <td>0</td>\n      <td>0</td>\n      <td>0</td>\n      <td>0</td>\n      <td>0</td>\n      <td>1</td>\n      <td>0</td>\n      <td>0</td>\n      <td>0</td>\n      <td>0</td>\n      <td>1</td>\n      <td>0</td>\n      <td>1</td>\n      <td>0</td>\n      <td>0</td>\n    </tr>\n    <tr>\n      <th>1</th>\n      <td>1</td>\n      <td>-122.347294</td>\n      <td>47.647172</td>\n      <td>2</td>\n      <td>0</td>\n      <td>0</td>\n      <td>0</td>\n      <td>0</td>\n      <td>0</td>\n      <td>0</td>\n      <td>0</td>\n      <td>0</td>\n      <td>0</td>\n      <td>0</td>\n      <td>0</td>\n      <td>0</td>\n      <td>1</td>\n      <td>0</td>\n      <td>0</td>\n      <td>1</td>\n      <td>0</td>\n      <td>0</td>\n      <td>0</td>\n      <td>0</td>\n      <td>1</td>\n      <td>0</td>\n      <td>0</td>\n      <td>0</td>\n      <td>1</td>\n      <td>1</td>\n      <td>0</td>\n      <td>0</td>\n      <td>0</td>\n    </tr>\n    <tr>\n      <th>2</th>\n      <td>1</td>\n      <td>-122.334540</td>\n      <td>47.607871</td>\n      <td>4</td>\n      <td>0</td>\n      <td>0</td>\n      <td>0</td>\n      <td>0</td>\n      <td>0</td>\n      <td>0</td>\n      <td>0</td>\n      <td>0</td>\n      <td>0</td>\n      <td>1</td>\n      <td>0</td>\n      <td>0</td>\n      <td>0</td>\n      <td>0</td>\n      <td>0</td>\n      <td>1</td>\n      <td>0</td>\n      <td>0</td>\n      <td>0</td>\n      <td>1</td>\n      <td>0</td>\n      <td>1</td>\n      <td>0</td>\n      <td>0</td>\n      <td>0</td>\n      <td>0</td>\n      <td>1</td>\n      <td>0</td>\n      <td>0</td>\n    </tr>\n    <tr>\n      <th>3</th>\n      <td>1</td>\n      <td>-122.334803</td>\n      <td>47.604803</td>\n      <td>3</td>\n      <td>0</td>\n      <td>0</td>\n      <td>0</td>\n      <td>0</td>\n      <td>0</td>\n      <td>0</td>\n      <td>0</td>\n      <td>0</td>\n      <td>1</td>\n      <td>0</td>\n      <td>0</td>\n      <td>0</td>\n      <td>0</td>\n      <td>0</td>\n      <td>0</td>\n      <td>1</td>\n      <td>0</td>\n      <td>1</td>\n      <td>0</td>\n      <td>0</td>\n      <td>0</td>\n      <td>1</td>\n      <td>0</td>\n      <td>0</td>\n      <td>0</td>\n      <td>0</td>\n      <td>1</td>\n      <td>0</td>\n      <td>0</td>\n    </tr>\n    <tr>\n      <th>4</th>\n      <td>2</td>\n      <td>-122.306426</td>\n      <td>47.545739</td>\n      <td>2</td>\n      <td>0</td>\n      <td>0</td>\n      <td>0</td>\n      <td>0</td>\n      <td>0</td>\n      <td>0</td>\n      <td>1</td>\n      <td>0</td>\n      <td>0</td>\n      <td>0</td>\n      <td>0</td>\n      <td>0</td>\n      <td>0</td>\n      <td>1</td>\n      <td>0</td>\n      <td>0</td>\n      <td>0</td>\n      <td>0</td>\n      <td>0</td>\n      <td>0</td>\n      <td>1</td>\n      <td>0</td>\n      <td>0</td>\n      <td>0</td>\n      <td>1</td>\n      <td>0</td>\n      <td>1</td>\n      <td>0</td>\n      <td>0</td>\n    </tr>\n  </tbody>\n</table>\n</div>",
                        "text/plain": "   SEVERITYCODE    Latitude  Longitude  PERSONCOUNT  PEDCOUNT  PEDCYLCOUNT  \\\n0             2 -122.323148  47.703140            2         0            0   \n1             1 -122.347294  47.647172            2         0            0   \n2             1 -122.334540  47.607871            4         0            0   \n3             1 -122.334803  47.604803            3         0            0   \n4             2 -122.306426  47.545739            2         0            0   \n\n   UNDERINFL  SEGLANEKEY  CROSSWALKKEY  HITPARKEDCAR  Angles  Left Turn  \\\n0          0           0             0             0       1          0   \n1          0           0             0             0       0          0   \n2          0           0             0             0       0          0   \n3          0           0             0             0       0          0   \n4          0           0             0             0       1          0   \n\n   Other  Parked Car  Pedestrian/Cycles  Rear Ended  Sideswipe  \\\n0      0           0                  0           0          0   \n1      0           0                  0           0          1   \n2      0           1                  0           0          0   \n3      1           0                  0           0          0   \n4      0           0                  0           0          0   \n\n   At Intersection (intersection related)  \\\n0                                       1   \n1                                       0   \n2                                       0   \n3                                       0   \n4                                       1   \n\n   Mid-Block (but intersection related)  \\\n0                                     0   \n1                                     0   \n2                                     0   \n3                                     0   \n4                                     0   \n\n   Mid-Block (not related to intersection)  Other  Clear  Other  Overcast  \\\n0                                        0      0      0      0         1   \n1                                        1      0      0      0         0   \n2                                        1      0      0      0         1   \n3                                        1      0      1      0         0   \n4                                        0      0      0      0         0   \n\n   Raining  Dry  Other  Unknown  Wet  Dark - Street Lights On  Daylight  \\\n0        0    0      0        0    1                        0         1   \n1        1    0      0        0    1                        1         0   \n2        0    1      0        0    0                        0         1   \n3        0    1      0        0    0                        0         1   \n4        1    0      0        0    1                        0         1   \n\n   Other  Unknown  \n0      0        0  \n1      0        0  \n2      0        0  \n3      0        0  \n4      0        0  "
                    },
                    "execution_count": 36,
                    "metadata": {},
                    "output_type": "execute_result"
                }
            ],
            "source": "cl6 = pd.concat([cl5,pd.get_dummies(cl5['LIGHTCOND'])], axis=1)\ncl6.drop(['LIGHTCOND'], axis = 1,inplace=True)\ncl6.head()"
        },
        {
            "cell_type": "markdown",
            "metadata": {},
            "source": "<h4> There are no more string values in the table, so we can now separate SEVERITYCODE from the rest of the table and get ready for normalization."
        },
        {
            "cell_type": "code",
            "execution_count": 37,
            "metadata": {
                "scrolled": true
            },
            "outputs": [
                {
                    "data": {
                        "text/html": "<div>\n<style scoped>\n    .dataframe tbody tr th:only-of-type {\n        vertical-align: middle;\n    }\n\n    .dataframe tbody tr th {\n        vertical-align: top;\n    }\n\n    .dataframe thead th {\n        text-align: right;\n    }\n</style>\n<table border=\"1\" class=\"dataframe\">\n  <thead>\n    <tr style=\"text-align: right;\">\n      <th></th>\n      <th>Latitude</th>\n      <th>Longitude</th>\n      <th>PERSONCOUNT</th>\n      <th>PEDCOUNT</th>\n      <th>PEDCYLCOUNT</th>\n      <th>UNDERINFL</th>\n      <th>SEGLANEKEY</th>\n      <th>CROSSWALKKEY</th>\n      <th>HITPARKEDCAR</th>\n      <th>Angles</th>\n      <th>Left Turn</th>\n      <th>Other</th>\n      <th>Parked Car</th>\n      <th>Pedestrian/Cycles</th>\n      <th>Rear Ended</th>\n      <th>Sideswipe</th>\n      <th>At Intersection (intersection related)</th>\n      <th>Mid-Block (but intersection related)</th>\n      <th>Mid-Block (not related to intersection)</th>\n      <th>Other</th>\n      <th>Clear</th>\n      <th>Other</th>\n      <th>Overcast</th>\n      <th>Raining</th>\n      <th>Dry</th>\n      <th>Other</th>\n      <th>Unknown</th>\n      <th>Wet</th>\n      <th>Dark - Street Lights On</th>\n      <th>Daylight</th>\n      <th>Other</th>\n      <th>Unknown</th>\n    </tr>\n  </thead>\n  <tbody>\n    <tr>\n      <th>0</th>\n      <td>-122.323148</td>\n      <td>47.703140</td>\n      <td>2</td>\n      <td>0</td>\n      <td>0</td>\n      <td>0</td>\n      <td>0</td>\n      <td>0</td>\n      <td>0</td>\n      <td>1</td>\n      <td>0</td>\n      <td>0</td>\n      <td>0</td>\n      <td>0</td>\n      <td>0</td>\n      <td>0</td>\n      <td>1</td>\n      <td>0</td>\n      <td>0</td>\n      <td>0</td>\n      <td>0</td>\n      <td>0</td>\n      <td>1</td>\n      <td>0</td>\n      <td>0</td>\n      <td>0</td>\n      <td>0</td>\n      <td>1</td>\n      <td>0</td>\n      <td>1</td>\n      <td>0</td>\n      <td>0</td>\n    </tr>\n    <tr>\n      <th>1</th>\n      <td>-122.347294</td>\n      <td>47.647172</td>\n      <td>2</td>\n      <td>0</td>\n      <td>0</td>\n      <td>0</td>\n      <td>0</td>\n      <td>0</td>\n      <td>0</td>\n      <td>0</td>\n      <td>0</td>\n      <td>0</td>\n      <td>0</td>\n      <td>0</td>\n      <td>0</td>\n      <td>1</td>\n      <td>0</td>\n      <td>0</td>\n      <td>1</td>\n      <td>0</td>\n      <td>0</td>\n      <td>0</td>\n      <td>0</td>\n      <td>1</td>\n      <td>0</td>\n      <td>0</td>\n      <td>0</td>\n      <td>1</td>\n      <td>1</td>\n      <td>0</td>\n      <td>0</td>\n      <td>0</td>\n    </tr>\n    <tr>\n      <th>2</th>\n      <td>-122.334540</td>\n      <td>47.607871</td>\n      <td>4</td>\n      <td>0</td>\n      <td>0</td>\n      <td>0</td>\n      <td>0</td>\n      <td>0</td>\n      <td>0</td>\n      <td>0</td>\n      <td>0</td>\n      <td>0</td>\n      <td>1</td>\n      <td>0</td>\n      <td>0</td>\n      <td>0</td>\n      <td>0</td>\n      <td>0</td>\n      <td>1</td>\n      <td>0</td>\n      <td>0</td>\n      <td>0</td>\n      <td>1</td>\n      <td>0</td>\n      <td>1</td>\n      <td>0</td>\n      <td>0</td>\n      <td>0</td>\n      <td>0</td>\n      <td>1</td>\n      <td>0</td>\n      <td>0</td>\n    </tr>\n    <tr>\n      <th>3</th>\n      <td>-122.334803</td>\n      <td>47.604803</td>\n      <td>3</td>\n      <td>0</td>\n      <td>0</td>\n      <td>0</td>\n      <td>0</td>\n      <td>0</td>\n      <td>0</td>\n      <td>0</td>\n      <td>0</td>\n      <td>1</td>\n      <td>0</td>\n      <td>0</td>\n      <td>0</td>\n      <td>0</td>\n      <td>0</td>\n      <td>0</td>\n      <td>1</td>\n      <td>0</td>\n      <td>1</td>\n      <td>0</td>\n      <td>0</td>\n      <td>0</td>\n      <td>1</td>\n      <td>0</td>\n      <td>0</td>\n      <td>0</td>\n      <td>0</td>\n      <td>1</td>\n      <td>0</td>\n      <td>0</td>\n    </tr>\n    <tr>\n      <th>4</th>\n      <td>-122.306426</td>\n      <td>47.545739</td>\n      <td>2</td>\n      <td>0</td>\n      <td>0</td>\n      <td>0</td>\n      <td>0</td>\n      <td>0</td>\n      <td>0</td>\n      <td>1</td>\n      <td>0</td>\n      <td>0</td>\n      <td>0</td>\n      <td>0</td>\n      <td>0</td>\n      <td>0</td>\n      <td>1</td>\n      <td>0</td>\n      <td>0</td>\n      <td>0</td>\n      <td>0</td>\n      <td>0</td>\n      <td>0</td>\n      <td>1</td>\n      <td>0</td>\n      <td>0</td>\n      <td>0</td>\n      <td>1</td>\n      <td>0</td>\n      <td>1</td>\n      <td>0</td>\n      <td>0</td>\n    </tr>\n  </tbody>\n</table>\n</div>",
                        "text/plain": "     Latitude  Longitude  PERSONCOUNT  PEDCOUNT  PEDCYLCOUNT  UNDERINFL  \\\n0 -122.323148  47.703140            2         0            0          0   \n1 -122.347294  47.647172            2         0            0          0   \n2 -122.334540  47.607871            4         0            0          0   \n3 -122.334803  47.604803            3         0            0          0   \n4 -122.306426  47.545739            2         0            0          0   \n\n   SEGLANEKEY  CROSSWALKKEY  HITPARKEDCAR  Angles  Left Turn  Other  \\\n0           0             0             0       1          0      0   \n1           0             0             0       0          0      0   \n2           0             0             0       0          0      0   \n3           0             0             0       0          0      1   \n4           0             0             0       1          0      0   \n\n   Parked Car  Pedestrian/Cycles  Rear Ended  Sideswipe  \\\n0           0                  0           0          0   \n1           0                  0           0          1   \n2           1                  0           0          0   \n3           0                  0           0          0   \n4           0                  0           0          0   \n\n   At Intersection (intersection related)  \\\n0                                       1   \n1                                       0   \n2                                       0   \n3                                       0   \n4                                       1   \n\n   Mid-Block (but intersection related)  \\\n0                                     0   \n1                                     0   \n2                                     0   \n3                                     0   \n4                                     0   \n\n   Mid-Block (not related to intersection)  Other  Clear  Other  Overcast  \\\n0                                        0      0      0      0         1   \n1                                        1      0      0      0         0   \n2                                        1      0      0      0         1   \n3                                        1      0      1      0         0   \n4                                        0      0      0      0         0   \n\n   Raining  Dry  Other  Unknown  Wet  Dark - Street Lights On  Daylight  \\\n0        0    0      0        0    1                        0         1   \n1        1    0      0        0    1                        1         0   \n2        0    1      0        0    0                        0         1   \n3        0    1      0        0    0                        0         1   \n4        1    0      0        0    1                        0         1   \n\n   Other  Unknown  \n0      0        0  \n1      0        0  \n2      0        0  \n3      0        0  \n4      0        0  "
                    },
                    "execution_count": 37,
                    "metadata": {},
                    "output_type": "execute_result"
                }
            ],
            "source": "cl7=cl6.drop(columns={'SEVERITYCODE'})\ncl7.head()"
        },
        {
            "cell_type": "markdown",
            "metadata": {},
            "source": "<h3>Normalizing\n<h4> Define X and Y for our model"
        },
        {
            "cell_type": "code",
            "execution_count": 38,
            "metadata": {},
            "outputs": [
                {
                    "data": {
                        "text/plain": "array([2, 1, 1, 1, 2], dtype=int64)"
                    },
                    "execution_count": 38,
                    "metadata": {},
                    "output_type": "execute_result"
                }
            ],
            "source": "y = cl6['SEVERITYCODE'].values\ny[0:5]\n"
        },
        {
            "cell_type": "markdown",
            "metadata": {},
            "source": "<h4> Pre Processing and Fitting the data"
        },
        {
            "cell_type": "code",
            "execution_count": 39,
            "metadata": {},
            "outputs": [
                {
                    "data": {
                        "text/plain": "array([[ 0.24396521,  1.48477487, -0.35018524, -0.19318067, -0.17494156,\n        -0.22690556, -0.0830008 , -0.13930458, -0.18049143,  2.05953087,\n        -0.28566923, -0.4180414 , -0.55912742, -0.26499443, -0.47174366,\n        -0.3318432 ,  1.39858396, -0.37340834, -0.94045349, -0.27434356,\n        -1.21982473, -0.2886265 ,  2.39095427, -0.46240114, -1.42460272,\n        -0.11761667, -0.25978363,  1.71729366, -0.59159911,  0.77759012,\n        -0.25294372, -0.24682253],\n       [-0.56150856,  0.49122186, -0.35018524, -0.19318067, -0.17494156,\n        -0.22690556, -0.0830008 , -0.13930458, -0.18049143, -0.48554747,\n        -0.28566923, -0.4180414 , -0.55912742, -0.26499443, -0.47174366,\n         3.01347141, -0.71500891, -0.37340834,  1.0633168 , -0.27434356,\n        -1.21982473, -0.2886265 , -0.41824305,  2.16262443, -1.42460272,\n        -0.11761667, -0.25978363,  1.71729366,  1.69033386, -1.28602457,\n        -0.25294372, -0.24682253],\n       [-0.13604278, -0.20645905,  1.11073119, -0.19318067, -0.17494156,\n        -0.22690556, -0.0830008 , -0.13930458, -0.18049143, -0.48554747,\n        -0.28566923, -0.4180414 ,  1.7885011 , -0.26499443, -0.47174366,\n        -0.3318432 , -0.71500891, -0.37340834,  1.0633168 , -0.27434356,\n        -1.21982473, -0.2886265 ,  2.39095427, -0.46240114,  0.70195008,\n        -0.11761667, -0.25978363, -0.58231159, -0.59159911,  0.77759012,\n        -0.25294372, -0.24682253],\n       [-0.14482611, -0.26093243,  0.38027298, -0.19318067, -0.17494156,\n        -0.22690556, -0.0830008 , -0.13930458, -0.18049143, -0.48554747,\n        -0.28566923,  2.39210758, -0.55912742, -0.26499443, -0.47174366,\n        -0.3318432 , -0.71500891, -0.37340834,  1.0633168 , -0.27434356,\n         0.81978991, -0.2886265 , -0.41824305, -0.46240114,  0.70195008,\n        -0.11761667, -0.25978363, -0.58231159, -0.59159911,  0.77759012,\n        -0.25294372, -0.24682253],\n       [ 0.80179129, -1.3094392 , -0.35018524, -0.19318067, -0.17494156,\n        -0.22690556, -0.0830008 , -0.13930458, -0.18049143,  2.05953087,\n        -0.28566923, -0.4180414 , -0.55912742, -0.26499443, -0.47174366,\n        -0.3318432 ,  1.39858396, -0.37340834, -0.94045349, -0.27434356,\n        -1.21982473, -0.2886265 , -0.41824305,  2.16262443, -1.42460272,\n        -0.11761667, -0.25978363,  1.71729366, -0.59159911,  0.77759012,\n        -0.25294372, -0.24682253]])"
                    },
                    "execution_count": 39,
                    "metadata": {},
                    "output_type": "execute_result"
                }
            ],
            "source": "X=cl7.values\nX= preprocessing.StandardScaler().fit(X).transform(X)\nX[0:5]"
        },
        {
            "cell_type": "markdown",
            "metadata": {},
            "source": "<h4>Splitting the data so we can train our model with 20% of the data, and test it's accuracy with the other 80%."
        },
        {
            "cell_type": "code",
            "execution_count": 40,
            "metadata": {
                "scrolled": true
            },
            "outputs": [
                {
                    "name": "stdout",
                    "output_type": "stream",
                    "text": "Train set: (144053, 32) (144053,)\nTest set: (36014, 32) (36014,)\n"
                }
            ],
            "source": "from sklearn.model_selection import train_test_split\nX_train, X_test, y_train, y_test = train_test_split( X, y, test_size=0.2, random_state=4)\nprint ('Train set:', X_train.shape,  y_train.shape)\nprint ('Test set:', X_test.shape,  y_test.shape)"
        },
        {
            "cell_type": "markdown",
            "metadata": {},
            "source": "<h2>K-Neighboors"
        },
        {
            "cell_type": "markdown",
            "metadata": {},
            "source": "<h4> Using K-Neighboors with a range of K from 10 to 70, so we can have more data to choose the best K for our model"
        },
        {
            "cell_type": "code",
            "execution_count": 63,
            "metadata": {
                "scrolled": true
            },
            "outputs": [
                {
                    "data": {
                        "text/plain": "[0.7334647637030044,\n 0.7283278724940301,\n 0.7343533070472594,\n 0.7309657355472872,\n 0.7352696173710224,\n 0.7332148608874327,\n 0.7363525295718332,\n 0.7337979674571,\n 0.7363247625923252,\n 0.7336035986005442,\n 0.7357416560226578,\n 0.7340756372521797,\n 0.7374909757316599,\n 0.7367690342644527,\n 0.7386294218914866,\n 0.7369078691619926,\n 0.7372410729160882,\n 0.7372688398955961,\n 0.7382129171988671,\n 0.7381018492808352,\n 0.73926806242017,\n 0.7394346642972177,\n 0.7400733048259011,\n 0.7386016549119787,\n 0.740156605764425,\n 0.7394068973177098,\n 0.740128838784917,\n 0.7395734991947576,\n 0.7399622369078691,\n 0.7395179652357416,\n 0.7397956350308214,\n 0.7399067029488532,\n 0.7408785472316322,\n 0.740101071805409,\n 0.741017382129172,\n 0.7405731104570444,\n 0.7405731104570444,\n 0.7405453434775365,\n 0.7410451491086799,\n 0.7415449547398234,\n 0.7419892264119509,\n 0.7414616538012995,\n 0.7412395179652358,\n 0.7416560226578552,\n 0.7412395179652358,\n 0.7416282556783473,\n 0.7408507802521241,\n 0.7406841783750764,\n 0.7403787416004887,\n 0.7403509746209808,\n 0.7404898095185206,\n 0.7399622369078691,\n 0.7408230132726162,\n 0.7406008774365525,\n 0.7403509746209808,\n 0.7406841783750764,\n 0.7399344699283612,\n 0.7399067029488532,\n 0.740045537846393,\n 0.740045537846393]"
                    },
                    "execution_count": 63,
                    "metadata": {},
                    "output_type": "execute_result"
                }
            ],
            "source": "accuracy_score=[]\n\nfor i in range (10,70):\n    knn=KNeighborsClassifier(n_neighbors=i)\n    knn.fit(X_train,y_train)\n    pred_i=knn.predict(X_test)\n    accuracy_score.append(metrics.accuracy_score(y_test,pred_i))\n\naccuracy_score"
        },
        {
            "cell_type": "markdown",
            "metadata": {},
            "source": "<h4> Plotting the accuracy results"
        },
        {
            "cell_type": "code",
            "execution_count": 100,
            "metadata": {
                "scrolled": true
            },
            "outputs": [
                {
                    "data": {
                        "image/png": "[encoded data removed]",
                        "text/plain": "<Figure size 432x288 with 1 Axes>"
                    },
                    "metadata": {
                        "needs_background": "light"
                    },
                    "output_type": "display_data"
                }
            ],
            "source": "plt.plot(range(1,61), accuracy_score)\n    \nplt.ylabel('Models Accuracy')\nplt.xlabel('K Value')\nplt.title('Finding Best K Value')\n\nplt.show()"
        },
        {
            "cell_type": "markdown",
            "metadata": {},
            "source": "<h4> Converting the results to a dataframe, naming the columns, and asking for it to show me value of K with the highest accuracy in our model."
        },
        {
            "cell_type": "code",
            "execution_count": 95,
            "metadata": {},
            "outputs": [
                {
                    "data": {
                        "text/html": "<div>\n<style scoped>\n    .dataframe tbody tr th:only-of-type {\n        vertical-align: middle;\n    }\n\n    .dataframe tbody tr th {\n        vertical-align: top;\n    }\n\n    .dataframe thead th {\n        text-align: right;\n    }\n</style>\n<table border=\"1\" class=\"dataframe\">\n  <thead>\n    <tr style=\"text-align: right;\">\n      <th></th>\n      <th>Accuracy</th>\n      <th>K</th>\n    </tr>\n  </thead>\n  <tbody>\n    <tr>\n      <th>40</th>\n      <td>0.741989</td>\n      <td>50</td>\n    </tr>\n  </tbody>\n</table>\n</div>",
                        "text/plain": "    Accuracy   K\n40  0.741989  50"
                    },
                    "execution_count": 95,
                    "metadata": {},
                    "output_type": "execute_result"
                }
            ],
            "source": "asknn=pd.DataFrame(accuracy_score, columns={'Accuracy'})\nK=[*range(10,70,1)]\nasknn['K']=K\nasknn = asknn.sort_values(by=['Accuracy'], ascending=False)\nasknn.head(1)"
        },
        {
            "cell_type": "markdown",
            "metadata": {},
            "source": "<h4> Our KNN model is most accurate when K=50, with a 74.1989% accuracy."
        },
        {
            "cell_type": "code",
            "execution_count": null,
            "metadata": {},
            "outputs": [],
            "source": ""
        },
        {
            "cell_type": "markdown",
            "metadata": {},
            "source": "<h2> Decision Tree"
        },
        {
            "cell_type": "code",
            "execution_count": 102,
            "metadata": {},
            "outputs": [
                {
                    "data": {
                        "text/plain": "DecisionTreeClassifier(max_depth=30)"
                    },
                    "execution_count": 102,
                    "metadata": {},
                    "output_type": "execute_result"
                }
            ],
            "source": "from sklearn.model_selection import train_test_split\nfrom sklearn.tree import DecisionTreeClassifier\nX_trainset, X_testset, y_trainset, y_testset = train_test_split(X, y, test_size=0.3, random_state=3)\naccitree = DecisionTreeClassifier(criterion=\"gini\", max_depth = 30)\naccitree"
        },
        {
            "cell_type": "code",
            "execution_count": 103,
            "metadata": {},
            "outputs": [
                {
                    "data": {
                        "text/plain": "DecisionTreeClassifier(max_depth=30)"
                    },
                    "execution_count": 103,
                    "metadata": {},
                    "output_type": "execute_result"
                }
            ],
            "source": "accitree.fit(X_trainset,y_trainset)"
        },
        {
            "cell_type": "code",
            "execution_count": 104,
            "metadata": {},
            "outputs": [
                {
                    "name": "stdout",
                    "output_type": "stream",
                    "text": "DecisionTrees's Accuracy:  0.693341478313989\n"
                }
            ],
            "source": "predTree = accitree.predict(X_testset)\n\nfrom sklearn import metrics\nimport matplotlib.pyplot as plt\nprint(\"DecisionTrees's Accuracy: \", metrics.accuracy_score(y_testset, predTree))"
        },
        {
            "cell_type": "markdown",
            "metadata": {},
            "source": "<h4>Our Decision Tree model has an accuracy of 69.33% when predicting the severity of accidents."
        },
        {
            "cell_type": "markdown",
            "metadata": {},
            "source": "<h2>Support Vector Machine"
        },
        {
            "cell_type": "code",
            "execution_count": 106,
            "metadata": {},
            "outputs": [
                {
                    "data": {
                        "text/plain": "SVC()"
                    },
                    "execution_count": 106,
                    "metadata": {},
                    "output_type": "execute_result"
                }
            ],
            "source": "from sklearn import svm\nclf = svm.SVC(kernel='rbf')\nclf.fit(X_train, y_train) "
        },
        {
            "cell_type": "code",
            "execution_count": 107,
            "metadata": {},
            "outputs": [
                {
                    "data": {
                        "text/plain": "array([1, 1, 1, 1, 1], dtype=int64)"
                    },
                    "execution_count": 107,
                    "metadata": {},
                    "output_type": "execute_result"
                }
            ],
            "source": "yhat = clf.predict(X_test)\nyhat [0:5]"
        },
        {
            "cell_type": "code",
            "execution_count": 113,
            "metadata": {},
            "outputs": [
                {
                    "name": "stdout",
                    "output_type": "stream",
                    "text": "Support Vector Accuracy:  0.7444049536291443\n"
                }
            ],
            "source": "print(\"Support Vector Accuracy: \", metrics.accuracy_score(y_test,yhat))"
        },
        {
            "cell_type": "markdown",
            "metadata": {},
            "source": "<h4>Support Vector Machine has an accuracy of 74.44% when predicting severity of accidents. This makes it the most effective model tested in this study."
        },
        {
            "cell_type": "code",
            "execution_count": null,
            "metadata": {},
            "outputs": [],
            "source": ""
        }
    ],
    "metadata": {
        "kernelspec": {
            "display_name": "Python 3",
            "language": "python",
            "name": "python3"
        },
        "language_info": {
            "codemirror_mode": {
                "name": "ipython",
                "version": 3
            },
            "file_extension": ".py",
            "mimetype": "text/x-python",
            "name": "python",
            "nbconvert_exporter": "python",
            "pygments_lexer": "ipython3",
            "version": "3.8.3"
        }
    },
    "nbformat": 4,
    "nbformat_minor": 1
}